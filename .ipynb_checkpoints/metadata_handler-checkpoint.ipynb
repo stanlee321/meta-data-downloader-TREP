{
 "cells": [
  {
   "cell_type": "code",
   "execution_count": 138,
   "metadata": {},
   "outputs": [],
   "source": [
    "from GPSPhoto import gpsphoto\n",
    "photo = gpsphoto.GPSPhoto(\"prueba.jpg\")"
   ]
  },
  {
   "cell_type": "code",
   "execution_count": 139,
   "metadata": {},
   "outputs": [
    {
     "data": {
      "text/plain": [
       "{'GPS GPSVersionID': (0x0000) Byte=[2, 2, 0, 0] @ 6402,\n",
       " 'GPS GPSTimeStamp': (0x0007) Ratio=[10, 47, 34] @ 6434,\n",
       " 'GPS GPSDate': (0x001D) ASCII=2019:10:15 @ 6458,\n",
       " 'Image GPSInfo': (0x8825) Long=6392 @ 162}"
      ]
     },
     "execution_count": 139,
     "metadata": {},
     "output_type": "execute_result"
    }
   ],
   "source": [
    "photo.rawData"
   ]
  },
  {
   "cell_type": "code",
   "execution_count": 28,
   "metadata": {},
   "outputs": [
    {
     "name": "stdout",
     "output_type": "stream",
     "text": [
      "{'UTC-Time': '10:47:34', 'Date': '10/15/2019'}\n"
     ]
    }
   ],
   "source": [
    "from GPSPhoto import gpsphoto\n",
    "# Get the data from image file and return a dictionary\n",
    "data = gpsphoto.getGPSData(\"prueba.jpg\")\n",
    "print(data)"
   ]
  },
  {
   "cell_type": "code",
   "execution_count": 2,
   "metadata": {},
   "outputs": [
    {
     "name": "stdout",
     "output_type": "stream",
     "text": [
      "main.py  \u001b[0m\u001b[01;35mprueba.jpg\u001b[0m  Untitled.ipynb\r\n"
     ]
    }
   ],
   "source": [
    "%ls"
   ]
  },
  {
   "cell_type": "code",
   "execution_count": null,
   "metadata": {},
   "outputs": [],
   "source": [
    "link = \"https://trep.oep.org.bo/resul/imgActa/509961.jpg\""
   ]
  },
  {
   "cell_type": "markdown",
   "metadata": {},
   "source": [
    "# Extract meta"
   ]
  },
  {
   "cell_type": "code",
   "execution_count": 122,
   "metadata": {},
   "outputs": [],
   "source": [
    "import pandas as pd\n",
    "import numpy as np"
   ]
  },
  {
   "cell_type": "code",
   "execution_count": 160,
   "metadata": {},
   "outputs": [
    {
     "name": "stdout",
     "output_type": "stream",
     "text": [
      "input image: prueba.jpg\n"
     ]
    }
   ],
   "source": [
    "import os,sys\n",
    "from PIL import Image\n",
    "from PIL.ExifTags import TAGS\n",
    "\n",
    "\n",
    "\n",
    "meta_list = create_meta_list(\"prueba.jpg\")"
   ]
  },
  {
   "cell_type": "code",
   "execution_count": 161,
   "metadata": {},
   "outputs": [
    {
     "data": {
      "text/html": [
       "<div>\n",
       "<style scoped>\n",
       "    .dataframe tbody tr th:only-of-type {\n",
       "        vertical-align: middle;\n",
       "    }\n",
       "\n",
       "    .dataframe tbody tr th {\n",
       "        vertical-align: top;\n",
       "    }\n",
       "\n",
       "    .dataframe thead th {\n",
       "        text-align: right;\n",
       "    }\n",
       "</style>\n",
       "<table border=\"1\" class=\"dataframe\">\n",
       "  <thead>\n",
       "    <tr style=\"text-align: right;\">\n",
       "      <th></th>\n",
       "      <th>ImageWidth</th>\n",
       "      <th>ImageLength</th>\n",
       "      <th>ExifVersion</th>\n",
       "      <th>ComponentsConfiguration</th>\n",
       "      <th>ShutterSpeedValue</th>\n",
       "      <th>DateTimeOriginal</th>\n",
       "      <th>DateTimeDigitized</th>\n",
       "      <th>ApertureValue</th>\n",
       "      <th>BrightnessValue</th>\n",
       "      <th>ExposureBiasValue</th>\n",
       "      <th>...</th>\n",
       "      <th>WhiteBalance</th>\n",
       "      <th>Software</th>\n",
       "      <th>DateTime</th>\n",
       "      <th>UserComment</th>\n",
       "      <th>FocalLengthIn35mmFilm</th>\n",
       "      <th>SceneCaptureType</th>\n",
       "      <th>ColorSpace</th>\n",
       "      <th>ExifOffset</th>\n",
       "      <th>MakerNote</th>\n",
       "      <th>image_src</th>\n",
       "    </tr>\n",
       "  </thead>\n",
       "  <tbody>\n",
       "    <tr>\n",
       "      <th>0</th>\n",
       "      <td>3264</td>\n",
       "      <td>1836</td>\n",
       "      <td>b'0220'</td>\n",
       "      <td>b'\\x01\\x02\\x03\\x00'</td>\n",
       "      <td>(5643, 1000)</td>\n",
       "      <td>2019:10:15 06:47:35</td>\n",
       "      <td>2019:10:15 06:47:35</td>\n",
       "      <td>(227, 100)</td>\n",
       "      <td>(0, 100)</td>\n",
       "      <td>(0, 10)</td>\n",
       "      <td>...</td>\n",
       "      <td>0</td>\n",
       "      <td>J250MUBS5ASE1</td>\n",
       "      <td>2019:10:15 06:47:35</td>\n",
       "      <td>b'ASCII\\x00\\x00\\x00\\xf0\\\\\\x00\\x00=\\xd8\\x00\\x00...</td>\n",
       "      <td>31</td>\n",
       "      <td>0</td>\n",
       "      <td>1</td>\n",
       "      <td>238</td>\n",
       "      <td>b'\\x07\\x00\\x01\\x00\\x07\\x00\\x04\\x00\\x00\\x000100...</td>\n",
       "      <td>prueba.jpg</td>\n",
       "    </tr>\n",
       "  </tbody>\n",
       "</table>\n",
       "<p>1 rows × 45 columns</p>\n",
       "</div>"
      ],
      "text/plain": [
       "  ImageWidth ImageLength ExifVersion ComponentsConfiguration  \\\n",
       "0       3264        1836     b'0220'     b'\\x01\\x02\\x03\\x00'   \n",
       "\n",
       "  ShutterSpeedValue     DateTimeOriginal    DateTimeDigitized ApertureValue  \\\n",
       "0      (5643, 1000)  2019:10:15 06:47:35  2019:10:15 06:47:35    (227, 100)   \n",
       "\n",
       "  BrightnessValue ExposureBiasValue  ... WhiteBalance       Software  \\\n",
       "0        (0, 100)           (0, 10)  ...            0  J250MUBS5ASE1   \n",
       "\n",
       "              DateTime                                        UserComment  \\\n",
       "0  2019:10:15 06:47:35  b'ASCII\\x00\\x00\\x00\\xf0\\\\\\x00\\x00=\\xd8\\x00\\x00...   \n",
       "\n",
       "  FocalLengthIn35mmFilm SceneCaptureType ColorSpace ExifOffset  \\\n",
       "0                    31                0          1        238   \n",
       "\n",
       "                                           MakerNote   image_src  \n",
       "0  b'\\x07\\x00\\x01\\x00\\x07\\x00\\x04\\x00\\x00\\x000100...  prueba.jpg  \n",
       "\n",
       "[1 rows x 45 columns]"
      ]
     },
     "execution_count": 161,
     "metadata": {},
     "output_type": "execute_result"
    }
   ],
   "source": [
    "\n",
    "df = create_df_from_dicts(meta_list)\n",
    "df.head()"
   ]
  },
  {
   "cell_type": "code",
   "execution_count": 152,
   "metadata": {
    "scrolled": true
   },
   "outputs": [],
   "source": [
    "c = df.columns"
   ]
  },
  {
   "cell_type": "code",
   "execution_count": 133,
   "metadata": {},
   "outputs": [
    {
     "name": "stdout",
     "output_type": "stream",
     "text": [
      "Index(['ImageWidth', 'ImageLength', 'ExifVersion', 'ComponentsConfiguration',\n",
      "       'ShutterSpeedValue', 'DateTimeOriginal', 'DateTimeDigitized',\n",
      "       'ApertureValue', 'BrightnessValue', 'ExposureBiasValue',\n",
      "       'MaxApertureValue', 'MeteringMode', 'LightSource', 'Flash',\n",
      "       'FocalLength', 'Make', 'Model', 'ExifImageWidth', 'Orientation',\n",
      "       'YCbCrPositioning', 'ExifImageHeight', 'SensingMethod', 'XResolution',\n",
      "       'YResolution', 'ExposureTime', 'ExifInteroperabilityOffset', 'FNumber',\n",
      "       'SceneType', 'ImageUniqueID', 'ExposureProgram', 'GPSInfo',\n",
      "       'ISOSpeedRatings', 'ResolutionUnit', 'ExposureMode', 'FlashPixVersion',\n",
      "       'WhiteBalance', 'Software', 'DateTime', 'UserComment',\n",
      "       'FocalLengthIn35mmFilm', 'SceneCaptureType', 'ColorSpace', 'ExifOffset',\n",
      "       'MakerNote'],\n",
      "      dtype='object')\n"
     ]
    }
   ],
   "source": [
    "print(c)"
   ]
  },
  {
   "cell_type": "markdown",
   "metadata": {},
   "source": [
    "## Download the image"
   ]
  },
  {
   "cell_type": "code",
   "execution_count": 172,
   "metadata": {},
   "outputs": [],
   "source": [
    "# Import requests, shutil python module.\n",
    "import requests\n",
    "import shutil\n",
    "from datetime import datetime"
   ]
  },
  {
   "cell_type": "code",
   "execution_count": 146,
   "metadata": {},
   "outputs": [],
   "source": []
  },
  {
   "cell_type": "code",
   "execution_count": 162,
   "metadata": {},
   "outputs": [],
   "source": []
  },
  {
   "cell_type": "code",
   "execution_count": 163,
   "metadata": {},
   "outputs": [
    {
     "name": "stdout",
     "output_type": "stream",
     "text": [
      "input image: test_image.jpg\n"
     ]
    }
   ],
   "source": [
    "meta_list = create_meta_list(image_name)"
   ]
  },
  {
   "cell_type": "code",
   "execution_count": 164,
   "metadata": {},
   "outputs": [
    {
     "data": {
      "text/html": [
       "<div>\n",
       "<style scoped>\n",
       "    .dataframe tbody tr th:only-of-type {\n",
       "        vertical-align: middle;\n",
       "    }\n",
       "\n",
       "    .dataframe tbody tr th {\n",
       "        vertical-align: top;\n",
       "    }\n",
       "\n",
       "    .dataframe thead th {\n",
       "        text-align: right;\n",
       "    }\n",
       "</style>\n",
       "<table border=\"1\" class=\"dataframe\">\n",
       "  <thead>\n",
       "    <tr style=\"text-align: right;\">\n",
       "      <th></th>\n",
       "      <th>ImageWidth</th>\n",
       "      <th>ImageLength</th>\n",
       "      <th>ExifVersion</th>\n",
       "      <th>ComponentsConfiguration</th>\n",
       "      <th>ShutterSpeedValue</th>\n",
       "      <th>DateTimeOriginal</th>\n",
       "      <th>DateTimeDigitized</th>\n",
       "      <th>ApertureValue</th>\n",
       "      <th>BrightnessValue</th>\n",
       "      <th>ExposureBiasValue</th>\n",
       "      <th>...</th>\n",
       "      <th>WhiteBalance</th>\n",
       "      <th>Software</th>\n",
       "      <th>DateTime</th>\n",
       "      <th>UserComment</th>\n",
       "      <th>FocalLengthIn35mmFilm</th>\n",
       "      <th>SceneCaptureType</th>\n",
       "      <th>ColorSpace</th>\n",
       "      <th>ExifOffset</th>\n",
       "      <th>MakerNote</th>\n",
       "      <th>image_src</th>\n",
       "    </tr>\n",
       "  </thead>\n",
       "  <tbody>\n",
       "    <tr>\n",
       "      <th>0</th>\n",
       "      <td>3264</td>\n",
       "      <td>1836</td>\n",
       "      <td>b'0220'</td>\n",
       "      <td>b'\\x01\\x02\\x03\\x00'</td>\n",
       "      <td>(5643, 1000)</td>\n",
       "      <td>2019:10:15 06:47:35</td>\n",
       "      <td>2019:10:15 06:47:35</td>\n",
       "      <td>(227, 100)</td>\n",
       "      <td>(0, 100)</td>\n",
       "      <td>(0, 10)</td>\n",
       "      <td>...</td>\n",
       "      <td>0</td>\n",
       "      <td>J250MUBS5ASE1</td>\n",
       "      <td>2019:10:15 06:47:35</td>\n",
       "      <td>b'ASCII\\x00\\x00\\x00\\xf0\\\\\\x00\\x00=\\xd8\\x00\\x00...</td>\n",
       "      <td>31</td>\n",
       "      <td>0</td>\n",
       "      <td>1</td>\n",
       "      <td>238</td>\n",
       "      <td>b'\\x07\\x00\\x01\\x00\\x07\\x00\\x04\\x00\\x00\\x000100...</td>\n",
       "      <td>test_image.jpg</td>\n",
       "    </tr>\n",
       "  </tbody>\n",
       "</table>\n",
       "<p>1 rows × 45 columns</p>\n",
       "</div>"
      ],
      "text/plain": [
       "  ImageWidth ImageLength ExifVersion ComponentsConfiguration  \\\n",
       "0       3264        1836     b'0220'     b'\\x01\\x02\\x03\\x00'   \n",
       "\n",
       "  ShutterSpeedValue     DateTimeOriginal    DateTimeDigitized ApertureValue  \\\n",
       "0      (5643, 1000)  2019:10:15 06:47:35  2019:10:15 06:47:35    (227, 100)   \n",
       "\n",
       "  BrightnessValue ExposureBiasValue  ... WhiteBalance       Software  \\\n",
       "0        (0, 100)           (0, 10)  ...            0  J250MUBS5ASE1   \n",
       "\n",
       "              DateTime                                        UserComment  \\\n",
       "0  2019:10:15 06:47:35  b'ASCII\\x00\\x00\\x00\\xf0\\\\\\x00\\x00=\\xd8\\x00\\x00...   \n",
       "\n",
       "  FocalLengthIn35mmFilm SceneCaptureType ColorSpace ExifOffset  \\\n",
       "0                    31                0          1        238   \n",
       "\n",
       "                                           MakerNote       image_src  \n",
       "0  b'\\x07\\x00\\x01\\x00\\x07\\x00\\x04\\x00\\x00\\x000100...  test_image.jpg  \n",
       "\n",
       "[1 rows x 45 columns]"
      ]
     },
     "execution_count": 164,
     "metadata": {},
     "output_type": "execute_result"
    }
   ],
   "source": [
    "df = create_df_from_dicts(meta_list)\n",
    "df.head()"
   ]
  },
  {
   "cell_type": "code",
   "execution_count": 241,
   "metadata": {},
   "outputs": [],
   "source": [
    "class MetaDataDownloader:\n",
    "    def __init__(self):\n",
    "        \"\"\"\n",
    "        This Downloadd the metadata from TREP images\n",
    "        \"\"\"\n",
    "        self.acta_id= \"\"\n",
    "        self.generic_name = 'generic_image_name.jpg'\n",
    "        \n",
    "        self.base_path = \"logs/\"\n",
    "        \n",
    "        # load mesas ids:\n",
    "        \n",
    "        self.mesas_ids = self.get_mesa_ids(target_file = \"TREP/eleccion-hourly-trep/acta.2019.10.25.10.13.40.xlsx\")\n",
    "        \n",
    "    def write_log(self, file_name, error, message):\n",
    "        \"\"\"\n",
    "        Write the last results\n",
    "        \"\"\"\n",
    "        os.makedirs(self.base_path, exist_ok=True)\n",
    "        \n",
    "        path = f\"{self.base_path}/{file_name}.txt\"\n",
    "\n",
    "        with open(path,\"a+\") as f:\n",
    "            f.write(f\"{image_name},{error},{message}\")\n",
    "            \n",
    "    def create_meta_list(self, image_name, image_url):\n",
    "        \"\"\"\n",
    "        Create list of dicts that contains the metadata key,value\n",
    "        \"\"\"\n",
    "        print(f\"input image: {image_name}\")\n",
    "        \n",
    "        # Aux list\n",
    "        meta_list = []\n",
    "        \n",
    "        try:\n",
    "            \n",
    "            for (k,v) in Image.open(image_name)._getexif().items():\n",
    "                key = TAGS.get(k)\n",
    "                try:\n",
    "                    value = v.decode(\"utf-8\")\n",
    "                except:\n",
    "                    value = v\n",
    "\n",
    "                meta_list.append({TAGS.get(k): str(v)})\n",
    "\n",
    "            # Add the image source acta_id\n",
    "            meta_list.append({\"current_download_datetime\": datetime.now()})\n",
    "            meta_list.append({\"image_src\": image_url })\n",
    "        except Exception as e:\n",
    "            \n",
    "            message = f\"This image {image_url} does not have exif\"\n",
    "            print(message)\n",
    "            self.write_log(\"error\", e, message)\n",
    "                \n",
    "        return meta_list\n",
    "    \n",
    "    def create_df_from_dicts(self, meta_list):\n",
    "        \"\"\"\n",
    "        Combine all the list of dicts into a row of dataframe\n",
    "        \"\"\"\n",
    "        df_to_combine = []\n",
    "        for d in meta_list:\n",
    "            df = pd.DataFrame.from_dict(d,  orient='index').T\n",
    "            df_to_combine.append(df)\n",
    "            \n",
    "        df = pd.concat(df_to_combine, axis=1)\n",
    "        \n",
    "        return df\n",
    "\n",
    "    def download_data(self, mesa_id):\n",
    "        # Set the current mesa_id\n",
    "        self.mesa_id = mesa_id\n",
    "        # This is the image url.\n",
    "        image_url = f\"https://trep.oep.org.bo/resul/imgActa/{mesa_id}.jpg\"\n",
    "        # Open the url image, set stream to True, this will return the stream content.\n",
    "        resp = requests.get(image_url, stream=True)\n",
    "        # Open a local file with wb ( write binary ) permission.\n",
    "        \n",
    "        # Set a generic name for save the image in disck\n",
    "        local_file = open(self.generic_name, 'wb')\n",
    "        \n",
    "        # Set decode_content value to True, otherwise the downloaded image file's size will be zero.\n",
    "        resp.raw.decode_content = True\n",
    "        # Copy the response stream raw data to local image file.\n",
    "        shutil.copyfileobj(resp.raw, local_file)\n",
    "        # Remove the image url response object.\n",
    "        del resp\n",
    "        \n",
    "        return self.generic_name, image_url\n",
    "    \n",
    "    def save_df_to_csv(self, df, mesa_id):\n",
    "        \n",
    "        os.makedirs(\"outputs/\", exist_ok=True)\n",
    "        \n",
    "        df.to_csv(f\"outputs/{mesa_id}.csv\", sep=\",\")\n",
    "    \n",
    "    def get_mesa_ids(self, target_file = \"TREP/eleccion-hourly-trep/acta.2019.10.25.10.13.40.xlsx\"):\n",
    "        \"\"\"\n",
    "        Return the list of actas ids\n",
    "        \"\"\"\n",
    "        df = pd.read_excel(target_file)\n",
    "        \n",
    "        mesa_ids = df[\"Número Mesa\"]\n",
    "        \n",
    "        print(f\"returing ...{len(mesa_ids)} actas ids\")\n",
    "        \n",
    "        return list(mesa_ids)\n",
    "    \n",
    "    def main(self, mesa_id= \"50996\"):\n",
    "        \n",
    "        mesa_id_p = mesa_id + \"1\"\n",
    "        \n",
    "        image_name, image_url = self.download_data(mesa_id_p)\n",
    "        \n",
    "        meta_list = self.create_meta_list(image_name, image_url)\n",
    "        \n",
    "        if (len(meta_list) == 0):\n",
    "            # no meta exif for this image\n",
    "            pass\n",
    "        else:\n",
    "            df = self.create_df_from_dicts(meta_list)\n",
    "            \n",
    "            self.save_df_to_csv(df, mesa_id)\n",
    "            \n",
    "            return df\n"
   ]
  },
  {
   "cell_type": "code",
   "execution_count": 228,
   "metadata": {},
   "outputs": [
    {
     "name": "stdout",
     "output_type": "stream",
     "text": [
      "returing ...64763 actas ids\n"
     ]
    }
   ],
   "source": [
    "handler = MetaDataDownloader()\n",
    "\n"
   ]
  },
  {
   "cell_type": "code",
   "execution_count": 226,
   "metadata": {},
   "outputs": [
    {
     "name": "stdout",
     "output_type": "stream",
     "text": [
      "input image: generic_image_name.jpg\n"
     ]
    },
    {
     "data": {
      "text/html": [
       "<div>\n",
       "<style scoped>\n",
       "    .dataframe tbody tr th:only-of-type {\n",
       "        vertical-align: middle;\n",
       "    }\n",
       "\n",
       "    .dataframe tbody tr th {\n",
       "        vertical-align: top;\n",
       "    }\n",
       "\n",
       "    .dataframe thead th {\n",
       "        text-align: right;\n",
       "    }\n",
       "</style>\n",
       "<table border=\"1\" class=\"dataframe\">\n",
       "  <thead>\n",
       "    <tr style=\"text-align: right;\">\n",
       "      <th></th>\n",
       "      <th>ImageWidth</th>\n",
       "      <th>ImageLength</th>\n",
       "      <th>ExifVersion</th>\n",
       "      <th>ComponentsConfiguration</th>\n",
       "      <th>ShutterSpeedValue</th>\n",
       "      <th>DateTimeOriginal</th>\n",
       "      <th>DateTimeDigitized</th>\n",
       "      <th>ApertureValue</th>\n",
       "      <th>BrightnessValue</th>\n",
       "      <th>ExposureBiasValue</th>\n",
       "      <th>...</th>\n",
       "      <th>Software</th>\n",
       "      <th>DateTime</th>\n",
       "      <th>UserComment</th>\n",
       "      <th>FocalLengthIn35mmFilm</th>\n",
       "      <th>SceneCaptureType</th>\n",
       "      <th>ColorSpace</th>\n",
       "      <th>ExifOffset</th>\n",
       "      <th>MakerNote</th>\n",
       "      <th>current_download_datetime</th>\n",
       "      <th>image_src</th>\n",
       "    </tr>\n",
       "  </thead>\n",
       "  <tbody>\n",
       "    <tr>\n",
       "      <th>0</th>\n",
       "      <td>3264</td>\n",
       "      <td>1836</td>\n",
       "      <td>b'0220'</td>\n",
       "      <td>b'\\x01\\x02\\x03\\x00'</td>\n",
       "      <td>(5643, 1000)</td>\n",
       "      <td>2019:10:15 06:47:35</td>\n",
       "      <td>2019:10:15 06:47:35</td>\n",
       "      <td>(227, 100)</td>\n",
       "      <td>(0, 100)</td>\n",
       "      <td>(0, 10)</td>\n",
       "      <td>...</td>\n",
       "      <td>J250MUBS5ASE1</td>\n",
       "      <td>2019:10:15 06:47:35</td>\n",
       "      <td>b'ASCII\\x00\\x00\\x00\\xf0\\\\\\x00\\x00=\\xd8\\x00\\x00...</td>\n",
       "      <td>31</td>\n",
       "      <td>0</td>\n",
       "      <td>1</td>\n",
       "      <td>238</td>\n",
       "      <td>b'\\x07\\x00\\x01\\x00\\x07\\x00\\x04\\x00\\x00\\x000100...</td>\n",
       "      <td>2019-11-02 03:04:55.680847</td>\n",
       "      <td>https://trep.oep.org.bo/resul/imgActa/509961.jpg</td>\n",
       "    </tr>\n",
       "  </tbody>\n",
       "</table>\n",
       "<p>1 rows × 46 columns</p>\n",
       "</div>"
      ],
      "text/plain": [
       "  ImageWidth ImageLength ExifVersion ComponentsConfiguration  \\\n",
       "0       3264        1836     b'0220'     b'\\x01\\x02\\x03\\x00'   \n",
       "\n",
       "  ShutterSpeedValue     DateTimeOriginal    DateTimeDigitized ApertureValue  \\\n",
       "0      (5643, 1000)  2019:10:15 06:47:35  2019:10:15 06:47:35    (227, 100)   \n",
       "\n",
       "  BrightnessValue ExposureBiasValue  ...       Software             DateTime  \\\n",
       "0        (0, 100)           (0, 10)  ...  J250MUBS5ASE1  2019:10:15 06:47:35   \n",
       "\n",
       "                                         UserComment FocalLengthIn35mmFilm  \\\n",
       "0  b'ASCII\\x00\\x00\\x00\\xf0\\\\\\x00\\x00=\\xd8\\x00\\x00...                    31   \n",
       "\n",
       "  SceneCaptureType ColorSpace ExifOffset  \\\n",
       "0                0          1        238   \n",
       "\n",
       "                                           MakerNote  \\\n",
       "0  b'\\x07\\x00\\x01\\x00\\x07\\x00\\x04\\x00\\x00\\x000100...   \n",
       "\n",
       "   current_download_datetime                                         image_src  \n",
       "0 2019-11-02 03:04:55.680847  https://trep.oep.org.bo/resul/imgActa/509961.jpg  \n",
       "\n",
       "[1 rows x 46 columns]"
      ]
     },
     "execution_count": 226,
     "metadata": {},
     "output_type": "execute_result"
    }
   ],
   "source": [
    "df_test = handler.main(mesa_id= \"50996\")\n",
    "df_test.head()"
   ]
  },
  {
   "cell_type": "code",
   "execution_count": 236,
   "metadata": {},
   "outputs": [],
   "source": [
    "mesas = list(handler.mesas_ids)"
   ]
  },
  {
   "cell_type": "code",
   "execution_count": 240,
   "metadata": {},
   "outputs": [
    {
     "data": {
      "text/plain": [
       "60375"
      ]
     },
     "execution_count": 240,
     "metadata": {},
     "output_type": "execute_result"
    }
   ],
   "source": [
    "mesas[3231]"
   ]
  },
  {
   "cell_type": "markdown",
   "metadata": {},
   "source": [
    "# Read all the mesa_ids:\n"
   ]
  },
  {
   "cell_type": "code",
   "execution_count": 185,
   "metadata": {},
   "outputs": [
    {
     "name": "stdout",
     "output_type": "stream",
     "text": [
      "ls: cannot access 'archivos': No such file or directory\r\n",
      "ls: cannot access 'excel': No such file or directory\r\n",
      "ls: cannot access 'descargados': No such file or directory\r\n",
      "ls: cannot access 'cada': No such file or directory\r\n",
      "ls: cannot access 'hora': No such file or directory\r\n",
      "ls: cannot access 'TREP': No such file or directory\r\n"
     ]
    }
   ],
   "source": [
    "%ls archivos excel descargados cada hora TREP"
   ]
  },
  {
   "cell_type": "code",
   "execution_count": 189,
   "metadata": {},
   "outputs": [
    {
     "name": "stdout",
     "output_type": "stream",
     "text": [
      "acta.2019.10.20.19.40.57.xlsx  acta.2019.10.23.15.16.40.xlsx\r\n",
      "acta.2019.10.21.19.14.53.xlsx  acta.2019.10.23.16.19.40.xlsx\r\n",
      "acta.2019.10.21.20.17.53.xlsx  acta.2019.10.23.17.22.40.xlsx\r\n",
      "acta.2019.10.21.21.20.53.xlsx  acta.2019.10.23.18.25.40.xlsx\r\n",
      "acta.2019.10.21.22.23.53.xlsx  acta.2019.10.23.19.28.40.xlsx\r\n",
      "acta.2019.10.21.23.26.53.xlsx  acta.2019.10.23.20.31.40.xlsx\r\n",
      "acta.2019.10.22.00.29.53.xlsx  acta.2019.10.23.21.34.40.xlsx\r\n",
      "acta.2019.10.22.01.32.53.xlsx  acta.2019.10.23.22.37.40.xlsx\r\n",
      "acta.2019.10.22.02.35.53.xlsx  acta.2019.10.23.23.40.40.xlsx\r\n",
      "acta.2019.10.22.03.38.53.xlsx  acta.2019.10.24.00.43.40.xlsx\r\n",
      "acta.2019.10.22.04.41.53.xlsx  acta.2019.10.24.01.46.40.xlsx\r\n",
      "acta.2019.10.22.05.44.53.xlsx  acta.2019.10.24.02.49.40.xlsx\r\n",
      "acta.2019.10.22.06.47.53.xlsx  acta.2019.10.24.03.52.40.xlsx\r\n",
      "acta.2019.10.22.07.50.53.xlsx  acta.2019.10.24.04.55.40.xlsx\r\n",
      "acta.2019.10.22.08.53.53.xlsx  acta.2019.10.24.05.58.40.xlsx\r\n",
      "acta.2019.10.22.09.56.53.xlsx  acta.2019.10.24.07.01.40.xlsx\r\n",
      "acta.2019.10.22.10.59.53.xlsx  acta.2019.10.24.08.04.40.xlsx\r\n",
      "acta.2019.10.22.12.02.53.xlsx  acta.2019.10.24.09.07.40.xlsx\r\n",
      "acta.2019.10.22.13.05.53.xlsx  acta.2019.10.24.10.10.40.xlsx\r\n",
      "acta.2019.10.22.14.05.53.xlsx  acta.2019.10.24.11.13.40.xlsx\r\n",
      "acta.2019.10.22.15.08.53.xlsx  acta.2019.10.24.12.16.40.xlsx\r\n",
      "acta.2019.10.22.16.11.53.xlsx  acta.2019.10.24.13.19.40.xlsx\r\n",
      "acta.2019.10.22.17.14.53.xlsx  acta.2019.10.24.14.22.40.xlsx\r\n",
      "acta.2019.10.22.18.17.53.xlsx  acta.2019.10.24.15.16.40.xlsx\r\n",
      "acta.2019.10.22.19.20.53.xlsx  acta.2019.10.24.16.19.40.xlsx\r\n",
      "acta.2019.10.22.20.23.53.xlsx  acta.2019.10.24.17.22.40.xlsx\r\n",
      "acta.2019.10.22.21.26.53.xlsx  acta.2019.10.24.18.25.40.xlsx\r\n",
      "acta.2019.10.22.22.29.53.xlsx  acta.2019.10.24.19.28.40.xlsx\r\n",
      "acta.2019.10.22.23.32.53.xlsx  acta.2019.10.24.20.31.40.xlsx\r\n",
      "acta.2019.10.23.00.35.53.xlsx  acta.2019.10.24.21.34.40.xlsx\r\n",
      "acta.2019.10.23.01.38.53.xlsx  acta.2019.10.24.22.37.40.xlsx\r\n",
      "acta.2019.10.23.02.41.53.xlsx  acta.2019.10.24.23.40.40.xlsx\r\n",
      "acta.2019.10.23.03.43.40.xlsx  acta.2019.10.25.00.43.40.xlsx\r\n",
      "acta.2019.10.23.04.46.40.xlsx  acta.2019.10.25.01.46.40.xlsx\r\n",
      "acta.2019.10.23.05.49.40.xlsx  acta.2019.10.25.02.52.40.xlsx\r\n",
      "acta.2019.10.23.06.52.40.xlsx  acta.2019.10.25.03.55.40.xlsx\r\n",
      "acta.2019.10.23.07.55.40.xlsx  acta.2019.10.25.04.58.40.xlsx\r\n",
      "acta.2019.10.23.08.58.40.xlsx  acta.2019.10.25.06.01.40.xlsx\r\n",
      "acta.2019.10.23.10.01.40.xlsx  acta.2019.10.25.07.04.40.xlsx\r\n",
      "acta.2019.10.23.11.04.40.xlsx  acta.2019.10.25.08.07.40.xlsx\r\n",
      "acta.2019.10.23.12.07.40.xlsx  acta.2019.10.25.09.10.40.xlsx\r\n",
      "acta.2019.10.23.13.10.40.xlsx  acta.2019.10.25.10.13.40.xlsx\r\n",
      "acta.2019.10.23.14.13.40.xlsx\r\n"
     ]
    }
   ],
   "source": [
    "%ls TREP/eleccion-hourly-trep/\n"
   ]
  },
  {
   "cell_type": "code",
   "execution_count": 190,
   "metadata": {},
   "outputs": [],
   "source": [
    "import glob"
   ]
  },
  {
   "cell_type": "code",
   "execution_count": 191,
   "metadata": {},
   "outputs": [
    {
     "name": "stdout",
     "output_type": "stream",
     "text": [
      "85\n"
     ]
    }
   ],
   "source": [
    "excel_list = glob.glob(\"TREP/eleccion-hourly-trep/*.xlsx\")\n",
    "print(len(excel_list))"
   ]
  },
  {
   "cell_type": "code",
   "execution_count": 197,
   "metadata": {},
   "outputs": [],
   "source": [
    "target_file = \"TREP/eleccion-hourly-trep/acta.2019.10.25.10.13.40.xlsx\""
   ]
  },
  {
   "cell_type": "code",
   "execution_count": 195,
   "metadata": {},
   "outputs": [
    {
     "data": {
      "text/plain": [
       "'TREP/eleccion-hourly-trep/acta.2019.10.24.23.40.40.xlsx'"
      ]
     },
     "execution_count": 195,
     "metadata": {},
     "output_type": "execute_result"
    }
   ],
   "source": [
    "excel_list[0]"
   ]
  },
  {
   "cell_type": "code",
   "execution_count": 209,
   "metadata": {},
   "outputs": [],
   "source": [
    "df = pd.read_excel(target_file)"
   ]
  },
  {
   "cell_type": "code",
   "execution_count": 210,
   "metadata": {},
   "outputs": [
    {
     "data": {
      "text/html": [
       "<div>\n",
       "<style scoped>\n",
       "    .dataframe tbody tr th:only-of-type {\n",
       "        vertical-align: middle;\n",
       "    }\n",
       "\n",
       "    .dataframe tbody tr th {\n",
       "        vertical-align: top;\n",
       "    }\n",
       "\n",
       "    .dataframe thead th {\n",
       "        text-align: right;\n",
       "    }\n",
       "</style>\n",
       "<table border=\"1\" class=\"dataframe\">\n",
       "  <thead>\n",
       "    <tr style=\"text-align: right;\">\n",
       "      <th></th>\n",
       "      <th>País</th>\n",
       "      <th>Número departamento</th>\n",
       "      <th>Departamento</th>\n",
       "      <th>Provincia</th>\n",
       "      <th>Número municipio</th>\n",
       "      <th>Municipio</th>\n",
       "      <th>Circunscripción</th>\n",
       "      <th>Localidad</th>\n",
       "      <th>Recinto</th>\n",
       "      <th>Número Mesa</th>\n",
       "      <th>...</th>\n",
       "      <th>MTS</th>\n",
       "      <th>UCS</th>\n",
       "      <th>MAS - IPSP</th>\n",
       "      <th>21F</th>\n",
       "      <th>PDC</th>\n",
       "      <th>MNR</th>\n",
       "      <th>PAN-BOL</th>\n",
       "      <th>Votos Válidos</th>\n",
       "      <th>Blancos</th>\n",
       "      <th>Nulos</th>\n",
       "    </tr>\n",
       "  </thead>\n",
       "  <tbody>\n",
       "    <tr>\n",
       "      <th>0</th>\n",
       "      <td>Argentina</td>\n",
       "      <td>10</td>\n",
       "      <td>Buenos Aires</td>\n",
       "      <td>Quilmes</td>\n",
       "      <td>1</td>\n",
       "      <td>Quilmes</td>\n",
       "      <td>NaN</td>\n",
       "      <td>Ezpeleta</td>\n",
       "      <td>Esc Primaria Nro 52 Gral. Bartolome Mitre.</td>\n",
       "      <td>1455</td>\n",
       "      <td>...</td>\n",
       "      <td>0</td>\n",
       "      <td>0</td>\n",
       "      <td>118</td>\n",
       "      <td>0</td>\n",
       "      <td>3</td>\n",
       "      <td>1</td>\n",
       "      <td>2</td>\n",
       "      <td>126</td>\n",
       "      <td>1</td>\n",
       "      <td>1</td>\n",
       "    </tr>\n",
       "    <tr>\n",
       "      <th>1</th>\n",
       "      <td>Argentina</td>\n",
       "      <td>10</td>\n",
       "      <td>Buenos Aires</td>\n",
       "      <td>Quilmes</td>\n",
       "      <td>1</td>\n",
       "      <td>Quilmes</td>\n",
       "      <td>NaN</td>\n",
       "      <td>Ezpeleta</td>\n",
       "      <td>Esc Primaria Nro 52 Gral. Bartolome Mitre.</td>\n",
       "      <td>1456</td>\n",
       "      <td>...</td>\n",
       "      <td>1</td>\n",
       "      <td>0</td>\n",
       "      <td>110</td>\n",
       "      <td>0</td>\n",
       "      <td>5</td>\n",
       "      <td>1</td>\n",
       "      <td>1</td>\n",
       "      <td>125</td>\n",
       "      <td>1</td>\n",
       "      <td>6</td>\n",
       "    </tr>\n",
       "    <tr>\n",
       "      <th>2</th>\n",
       "      <td>Argentina</td>\n",
       "      <td>10</td>\n",
       "      <td>Buenos Aires</td>\n",
       "      <td>Quilmes</td>\n",
       "      <td>1</td>\n",
       "      <td>Quilmes</td>\n",
       "      <td>NaN</td>\n",
       "      <td>Ezpeleta</td>\n",
       "      <td>Esc Primaria Nro 52 Gral. Bartolome Mitre.</td>\n",
       "      <td>1457</td>\n",
       "      <td>...</td>\n",
       "      <td>0</td>\n",
       "      <td>1</td>\n",
       "      <td>120</td>\n",
       "      <td>2</td>\n",
       "      <td>3</td>\n",
       "      <td>0</td>\n",
       "      <td>0</td>\n",
       "      <td>131</td>\n",
       "      <td>1</td>\n",
       "      <td>5</td>\n",
       "    </tr>\n",
       "    <tr>\n",
       "      <th>3</th>\n",
       "      <td>Argentina</td>\n",
       "      <td>10</td>\n",
       "      <td>Buenos Aires</td>\n",
       "      <td>Quilmes</td>\n",
       "      <td>1</td>\n",
       "      <td>Quilmes</td>\n",
       "      <td>NaN</td>\n",
       "      <td>Ezpeleta</td>\n",
       "      <td>Esc Primaria Nro 52 Gral. Bartolome Mitre.</td>\n",
       "      <td>1458</td>\n",
       "      <td>...</td>\n",
       "      <td>1</td>\n",
       "      <td>1</td>\n",
       "      <td>124</td>\n",
       "      <td>0</td>\n",
       "      <td>2</td>\n",
       "      <td>0</td>\n",
       "      <td>2</td>\n",
       "      <td>139</td>\n",
       "      <td>2</td>\n",
       "      <td>2</td>\n",
       "    </tr>\n",
       "    <tr>\n",
       "      <th>4</th>\n",
       "      <td>Argentina</td>\n",
       "      <td>10</td>\n",
       "      <td>Buenos Aires</td>\n",
       "      <td>Quilmes</td>\n",
       "      <td>1</td>\n",
       "      <td>Quilmes</td>\n",
       "      <td>NaN</td>\n",
       "      <td>Ezpeleta</td>\n",
       "      <td>Esc Primaria Nro 52 Gral. Bartolome Mitre.</td>\n",
       "      <td>1459</td>\n",
       "      <td>...</td>\n",
       "      <td>0</td>\n",
       "      <td>0</td>\n",
       "      <td>122</td>\n",
       "      <td>0</td>\n",
       "      <td>6</td>\n",
       "      <td>0</td>\n",
       "      <td>0</td>\n",
       "      <td>136</td>\n",
       "      <td>1</td>\n",
       "      <td>2</td>\n",
       "    </tr>\n",
       "  </tbody>\n",
       "</table>\n",
       "<p>5 rows × 25 columns</p>\n",
       "</div>"
      ],
      "text/plain": [
       "        País  Número departamento  Departamento Provincia  Número municipio  \\\n",
       "0  Argentina                   10  Buenos Aires   Quilmes                 1   \n",
       "1  Argentina                   10  Buenos Aires   Quilmes                 1   \n",
       "2  Argentina                   10  Buenos Aires   Quilmes                 1   \n",
       "3  Argentina                   10  Buenos Aires   Quilmes                 1   \n",
       "4  Argentina                   10  Buenos Aires   Quilmes                 1   \n",
       "\n",
       "  Municipio Circunscripción Localidad  \\\n",
       "0   Quilmes             NaN  Ezpeleta   \n",
       "1   Quilmes             NaN  Ezpeleta   \n",
       "2   Quilmes             NaN  Ezpeleta   \n",
       "3   Quilmes             NaN  Ezpeleta   \n",
       "4   Quilmes             NaN  Ezpeleta   \n",
       "\n",
       "                                      Recinto  Número Mesa  ...  MTS UCS  \\\n",
       "0  Esc Primaria Nro 52 Gral. Bartolome Mitre.         1455  ...    0   0   \n",
       "1  Esc Primaria Nro 52 Gral. Bartolome Mitre.         1456  ...    1   0   \n",
       "2  Esc Primaria Nro 52 Gral. Bartolome Mitre.         1457  ...    0   1   \n",
       "3  Esc Primaria Nro 52 Gral. Bartolome Mitre.         1458  ...    1   1   \n",
       "4  Esc Primaria Nro 52 Gral. Bartolome Mitre.         1459  ...    0   0   \n",
       "\n",
       "   MAS - IPSP  21F  PDC  MNR  PAN-BOL  Votos Válidos  Blancos  Nulos  \n",
       "0         118    0    3    1        2            126        1      1  \n",
       "1         110    0    5    1        1            125        1      6  \n",
       "2         120    2    3    0        0            131        1      5  \n",
       "3         124    0    2    0        2            139        2      2  \n",
       "4         122    0    6    0        0            136        1      2  \n",
       "\n",
       "[5 rows x 25 columns]"
      ]
     },
     "execution_count": 210,
     "metadata": {},
     "output_type": "execute_result"
    }
   ],
   "source": [
    "df.head()"
   ]
  },
  {
   "cell_type": "code",
   "execution_count": 211,
   "metadata": {},
   "outputs": [
    {
     "data": {
      "text/plain": [
       "64763"
      ]
     },
     "execution_count": 211,
     "metadata": {},
     "output_type": "execute_result"
    }
   ],
   "source": [
    "len(df[\"Número Mesa\"])"
   ]
  },
  {
   "cell_type": "code",
   "execution_count": 220,
   "metadata": {},
   "outputs": [
    {
     "name": "stdout",
     "output_type": "stream",
     "text": [
      "1455\n"
     ]
    }
   ],
   "source": [
    "mesa_id = df[\"Número Mesa\"][0]\n",
    "print(mesa_id)"
   ]
  },
  {
   "cell_type": "code",
   "execution_count": 221,
   "metadata": {},
   "outputs": [
    {
     "name": "stdout",
     "output_type": "stream",
     "text": [
      "input image: generic_image_name.jpg\n",
      "This image https://trep.oep.org.bo/resul/imgActa/14551.jpg does not have exif\n"
     ]
    },
    {
     "ename": "AttributeError",
     "evalue": "'NoneType' object has no attribute 'head'",
     "output_type": "error",
     "traceback": [
      "\u001b[0;31m---------------------------------------------------------------------------\u001b[0m",
      "\u001b[0;31mAttributeError\u001b[0m                            Traceback (most recent call last)",
      "\u001b[0;32m<ipython-input-221-f3eeda4a57a3>\u001b[0m in \u001b[0;36m<module>\u001b[0;34m\u001b[0m\n\u001b[1;32m      1\u001b[0m \u001b[0mdf_test\u001b[0m \u001b[0;34m=\u001b[0m \u001b[0mhandler\u001b[0m\u001b[0;34m.\u001b[0m\u001b[0mmain\u001b[0m\u001b[0;34m(\u001b[0m\u001b[0mmesa_id\u001b[0m\u001b[0;34m=\u001b[0m \u001b[0mstr\u001b[0m\u001b[0;34m(\u001b[0m\u001b[0mmesa_id\u001b[0m\u001b[0;34m)\u001b[0m\u001b[0;34m)\u001b[0m\u001b[0;34m\u001b[0m\u001b[0;34m\u001b[0m\u001b[0m\n\u001b[0;32m----> 2\u001b[0;31m \u001b[0mdf_test\u001b[0m\u001b[0;34m.\u001b[0m\u001b[0mhead\u001b[0m\u001b[0;34m(\u001b[0m\u001b[0;34m)\u001b[0m\u001b[0;34m\u001b[0m\u001b[0;34m\u001b[0m\u001b[0m\n\u001b[0m",
      "\u001b[0;31mAttributeError\u001b[0m: 'NoneType' object has no attribute 'head'"
     ]
    }
   ],
   "source": [
    "df_test = handler.main(mesa_id= str(mesa_id))\n",
    "\n",
    "df_test.head()"
   ]
  }
 ],
 "metadata": {
  "celltoolbar": "Raw Cell Format",
  "kernelspec": {
   "display_name": "Python 3",
   "language": "python",
   "name": "python3"
  },
  "language_info": {
   "codemirror_mode": {
    "name": "ipython",
    "version": 3
   },
   "file_extension": ".py",
   "mimetype": "text/x-python",
   "name": "python",
   "nbconvert_exporter": "python",
   "pygments_lexer": "ipython3",
   "version": "3.6.7"
  }
 },
 "nbformat": 4,
 "nbformat_minor": 2
}
