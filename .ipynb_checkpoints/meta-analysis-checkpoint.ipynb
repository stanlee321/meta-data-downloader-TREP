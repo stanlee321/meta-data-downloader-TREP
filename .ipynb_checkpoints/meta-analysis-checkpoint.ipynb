{
 "cells": [
  {
   "cell_type": "markdown",
   "metadata": {},
   "source": [
    "# Analisis del metadata de las actas de TREP"
   ]
  },
  {
   "cell_type": "code",
   "execution_count": 1,
   "metadata": {},
   "outputs": [],
   "source": [
    "import pandas as pd\n",
    "import glob\n",
    "import seaborn as sns\n",
    "import matplotlib.pyplot as plt\n",
    "from scipy import stats\n",
    "\n",
    "%matplotlib inline\n",
    "\n",
    "sns.set(color_codes=True)"
   ]
  },
  {
   "cell_type": "code",
   "execution_count": 2,
   "metadata": {},
   "outputs": [
    {
     "name": "stdout",
     "output_type": "stream",
     "text": [
      " \u001b[0m\u001b[01;35m509961.jpg\u001b[0m                                       main.py\r\n",
      " \u001b[01;35m509991.jpg\u001b[0m                                       meta-analysis.ipynb\r\n",
      " \u001b[01;35m747471.jpg\u001b[0m                                       metadata_handler.ipynb\r\n",
      " all_metadata.csv                                 \u001b[01;34moutputs\u001b[0m/\r\n",
      "\u001b[01;31m'archivos excel descargados cada hora TREP.zip'\u001b[0m   \u001b[01;34moutputs_c\u001b[0m/\r\n",
      " \u001b[01;34massets\u001b[0m/                                          \u001b[01;31moutputs.zip\u001b[0m\r\n",
      " \u001b[01;35mgeneric_image_name.jpg\u001b[0m                           README.md\r\n",
      " \u001b[01;34mlogs\u001b[0m/                                            \u001b[01;34mTREP\u001b[0m/\r\n"
     ]
    }
   ],
   "source": [
    "%ls"
   ]
  },
  {
   "cell_type": "markdown",
   "metadata": {},
   "source": [
    "## Loading the data"
   ]
  },
  {
   "cell_type": "code",
   "execution_count": 4,
   "metadata": {},
   "outputs": [
    {
     "name": "stdout",
     "output_type": "stream",
     "text": [
      "How many files? 1114\n"
     ]
    }
   ],
   "source": [
    "# Obtain the csv files paths\n",
    "\n",
    "files = glob.glob(\"./outputs_c/*.csv\")\n",
    "\n",
    "\n",
    "print(f\"How many files? {len(files)}\")"
   ]
  },
  {
   "cell_type": "code",
   "execution_count": 5,
   "metadata": {},
   "outputs": [
    {
     "ename": "AttributeError",
     "evalue": "type object 'DataFrame' has no attribute 'from_csv'",
     "output_type": "error",
     "traceback": [
      "\u001b[0;31m---------------------------------------------------------------------------\u001b[0m",
      "\u001b[0;31mAttributeError\u001b[0m                            Traceback (most recent call last)",
      "\u001b[0;32m<ipython-input-5-bd17c0e85657>\u001b[0m in \u001b[0;36m<module>\u001b[0;34m\u001b[0m\n\u001b[1;32m     11\u001b[0m     \u001b[0;32mreturn\u001b[0m \u001b[0mlist_of_df\u001b[0m\u001b[0;34m\u001b[0m\u001b[0;34m\u001b[0m\u001b[0m\n\u001b[1;32m     12\u001b[0m \u001b[0;34m\u001b[0m\u001b[0m\n\u001b[0;32m---> 13\u001b[0;31m \u001b[0mdf_lists\u001b[0m \u001b[0;34m=\u001b[0m \u001b[0mload_csv_files\u001b[0m\u001b[0;34m(\u001b[0m\u001b[0mfiles\u001b[0m\u001b[0;34m)\u001b[0m\u001b[0;34m\u001b[0m\u001b[0;34m\u001b[0m\u001b[0m\n\u001b[0m",
      "\u001b[0;32m<ipython-input-5-bd17c0e85657>\u001b[0m in \u001b[0;36mload_csv_files\u001b[0;34m(list_of_files)\u001b[0m\n\u001b[1;32m      7\u001b[0m     \u001b[0mlist_of_df\u001b[0m \u001b[0;34m=\u001b[0m \u001b[0;34m[\u001b[0m\u001b[0;34m]\u001b[0m\u001b[0;34m\u001b[0m\u001b[0;34m\u001b[0m\u001b[0m\n\u001b[1;32m      8\u001b[0m     \u001b[0;32mfor\u001b[0m \u001b[0mf\u001b[0m \u001b[0;32min\u001b[0m \u001b[0mlist_of_files\u001b[0m\u001b[0;34m:\u001b[0m\u001b[0;34m\u001b[0m\u001b[0;34m\u001b[0m\u001b[0m\n\u001b[0;32m----> 9\u001b[0;31m         \u001b[0mdf\u001b[0m \u001b[0;34m=\u001b[0m \u001b[0mpd\u001b[0m\u001b[0;34m.\u001b[0m\u001b[0mDataFrame\u001b[0m\u001b[0;34m.\u001b[0m\u001b[0mfrom_csv\u001b[0m\u001b[0;34m(\u001b[0m\u001b[0mf\u001b[0m\u001b[0;34m)\u001b[0m\u001b[0;34m\u001b[0m\u001b[0;34m\u001b[0m\u001b[0m\n\u001b[0m\u001b[1;32m     10\u001b[0m         \u001b[0mlist_of_df\u001b[0m\u001b[0;34m.\u001b[0m\u001b[0mappend\u001b[0m\u001b[0;34m(\u001b[0m\u001b[0mdf\u001b[0m\u001b[0;34m)\u001b[0m\u001b[0;34m\u001b[0m\u001b[0;34m\u001b[0m\u001b[0m\n\u001b[1;32m     11\u001b[0m     \u001b[0;32mreturn\u001b[0m \u001b[0mlist_of_df\u001b[0m\u001b[0;34m\u001b[0m\u001b[0;34m\u001b[0m\u001b[0m\n",
      "\u001b[0;31mAttributeError\u001b[0m: type object 'DataFrame' has no attribute 'from_csv'"
     ]
    }
   ],
   "source": [
    "# Load the csv files as a list of dataframes\n",
    "\n",
    "def load_csv_files(list_of_files):\n",
    "    \"\"\"\n",
    "    Return a list of dataframes\n",
    "    \"\"\"\n",
    "    list_of_df = []\n",
    "    for f in list_of_files:\n",
    "        df = pd.DataFrame.from_csv(f)\n",
    "        list_of_df.append(df)\n",
    "    return list_of_df\n",
    "\n",
    "df_lists = load_csv_files(files)"
   ]
  },
  {
   "cell_type": "markdown",
   "metadata": {},
   "source": [
    "Obtain the column sizes for each dataframe"
   ]
  },
  {
   "cell_type": "code",
   "execution_count": 99,
   "metadata": {},
   "outputs": [],
   "source": [
    "def get_column_sizes(df_lists):\n",
    "    \n",
    "    df_col_names = []\n",
    "\n",
    "    for df in df_lists:\n",
    "        df_col_names.append(len(df.columns))\n",
    "        \n",
    "    return df_col_names\n",
    "\n",
    "df_col_names = get_column_sizes(df_lists)\n",
    "\n"
   ]
  },
  {
   "cell_type": "markdown",
   "metadata": {},
   "source": [
    "Plot the distribution of column sizes"
   ]
  },
  {
   "cell_type": "code",
   "execution_count": 100,
   "metadata": {},
   "outputs": [
    {
     "data": {
      "image/png": "[encoded data removed]",
      "text/plain": [
       "<Figure size 432x288 with 1 Axes>"
      ]
     },
     "metadata": {},
     "output_type": "display_data"
    }
   ],
   "source": [
    "sns.distplot(df_col_names);"
   ]
  },
  {
   "cell_type": "code",
   "execution_count": 101,
   "metadata": {},
   "outputs": [
    {
     "data": {
      "text/plain": [
       "43.604129263913826"
      ]
     },
     "execution_count": 101,
     "metadata": {},
     "output_type": "execute_result"
    }
   ],
   "source": [
    "np.mean(df_col_names)"
   ]
  },
  {
   "cell_type": "markdown",
   "metadata": {},
   "source": [
    "The average column sizes is around 43"
   ]
  },
  {
   "cell_type": "markdown",
   "metadata": {},
   "source": [
    "Unique columns sizes are"
   ]
  },
  {
   "cell_type": "code",
   "execution_count": 102,
   "metadata": {},
   "outputs": [],
   "source": [
    "uniques = np.unique(df_col_names)"
   ]
  },
  {
   "cell_type": "code",
   "execution_count": 104,
   "metadata": {},
   "outputs": [
    {
     "data": {
      "text/plain": [
       "array([ 7, 32, 34, 36, 37, 38, 39, 40, 41, 42, 43, 44, 45, 46, 47, 48, 49,\n",
       "       50, 51, 55, 56, 57])"
      ]
     },
     "execution_count": 104,
     "metadata": {},
     "output_type": "execute_result"
    }
   ],
   "source": [
    "uniques"
   ]
  },
  {
   "cell_type": "code",
   "execution_count": 105,
   "metadata": {},
   "outputs": [
    {
     "name": "stdout",
     "output_type": "stream",
     "text": [
      "22\n"
     ]
    }
   ],
   "source": [
    "print(len(uniques))"
   ]
  },
  {
   "cell_type": "markdown",
   "metadata": {},
   "source": [
    "### Group sizes of Dataframes"
   ]
  },
  {
   "cell_type": "code",
   "execution_count": 106,
   "metadata": {},
   "outputs": [
    {
     "name": "stdout",
     "output_type": "stream",
     "text": [
      "[{'7': []}, {'32': []}, {'34': []}, {'36': []}, {'37': []}, {'38': []}, {'39': []}, {'40': []}, {'41': []}, {'42': []}, {'43': []}, {'44': []}, {'45': []}, {'46': []}, {'47': []}, {'48': []}, {'49': []}, {'50': []}, {'51': []}, {'55': []}, {'56': []}, {'57': []}]\n"
     ]
    }
   ],
   "source": [
    "list_of_dicts = []\n",
    "for u in uniques:\n",
    "    my_dict = {f\"{u}\": []}\n",
    "    list_of_dicts.append(my_dict)\n",
    "    \n",
    "print(list_of_dicts)"
   ]
  },
  {
   "cell_type": "code",
   "execution_count": 6,
   "metadata": {},
   "outputs": [
    {
     "ename": "NameError",
     "evalue": "name 'df_lists' is not defined",
     "output_type": "error",
     "traceback": [
      "\u001b[0;31m---------------------------------------------------------------------------\u001b[0m",
      "\u001b[0;31mNameError\u001b[0m                                 Traceback (most recent call last)",
      "\u001b[0;32m<ipython-input-6-ffc3cbc0edce>\u001b[0m in \u001b[0;36m<module>\u001b[0;34m\u001b[0m\n\u001b[1;32m      1\u001b[0m \u001b[0;31m# Create list of dicts\u001b[0m\u001b[0;34m\u001b[0m\u001b[0;34m\u001b[0m\u001b[0;34m\u001b[0m\u001b[0m\n\u001b[0;32m----> 2\u001b[0;31m \u001b[0;32mfor\u001b[0m \u001b[0mdf\u001b[0m \u001b[0;32min\u001b[0m \u001b[0mdf_lists\u001b[0m\u001b[0;34m:\u001b[0m\u001b[0;34m\u001b[0m\u001b[0;34m\u001b[0m\u001b[0m\n\u001b[0m\u001b[1;32m      3\u001b[0m \u001b[0;34m\u001b[0m\u001b[0m\n\u001b[1;32m      4\u001b[0m     \u001b[0mcol_size\u001b[0m \u001b[0;34m=\u001b[0m \u001b[0mlen\u001b[0m\u001b[0;34m(\u001b[0m\u001b[0mdf\u001b[0m\u001b[0;34m.\u001b[0m\u001b[0mcolumns\u001b[0m\u001b[0;34m)\u001b[0m\u001b[0;34m\u001b[0m\u001b[0;34m\u001b[0m\u001b[0m\n\u001b[1;32m      5\u001b[0m     \u001b[0;31m#print(col_size)\u001b[0m\u001b[0;34m\u001b[0m\u001b[0;34m\u001b[0m\u001b[0;34m\u001b[0m\u001b[0m\n",
      "\u001b[0;31mNameError\u001b[0m: name 'df_lists' is not defined"
     ]
    }
   ],
   "source": [
    "# Create list of dicts\n",
    "for df in df_lists:\n",
    "    \n",
    "    col_size = len(df.columns)\n",
    "    #print(col_size)\n",
    "    for d in list_of_dicts:\n",
    "        for k, v in d.items():\n",
    "            if str(col_size) == k:\n",
    "                #print(col_size)\n",
    "                v.append(df)\n",
    "    \n",
    "    \n",
    "print(list_of_dicts[:5])"
   ]
  },
  {
   "cell_type": "code",
   "execution_count": 108,
   "metadata": {},
   "outputs": [
    {
     "data": {
      "text/plain": [
       "array([ 7, 32, 34, 36, 37, 38, 39, 40, 41, 42, 43, 44, 45, 46, 47, 48, 49,\n",
       "       50, 51, 55, 56, 57])"
      ]
     },
     "execution_count": 108,
     "metadata": {},
     "output_type": "execute_result"
    }
   ],
   "source": [
    "uniques"
   ]
  },
  {
   "cell_type": "code",
   "execution_count": 109,
   "metadata": {},
   "outputs": [
    {
     "name": "stdout",
     "output_type": "stream",
     "text": [
      "22\n"
     ]
    }
   ],
   "source": [
    "count_df = len(list_of_dicts)\n",
    "print(count_df)"
   ]
  },
  {
   "cell_type": "code",
   "execution_count": 111,
   "metadata": {},
   "outputs": [],
   "source": [
    "#Create list of concat dataframes.\n"
   ]
  },
  {
   "cell_type": "code",
   "execution_count": 114,
   "metadata": {},
   "outputs": [],
   "source": [
    "# Map the Size of the DF to his position in the list\n",
    "maping = {\"7\": 0,\n",
    "          \"32\":1,\n",
    "          \"34\":2,\n",
    "          \"36\":3,\n",
    "          \"37\":4,\n",
    "          \"38\":5,\n",
    "          \"39\":6,\n",
    "          \"40\":7,\n",
    "          \"41\":8,\n",
    "          \"42\":9,\n",
    "          \"43\":10,\n",
    "          \"44\":11,\n",
    "          \"45\":12,\n",
    "          \"46\":13,\n",
    "          \"47\":14,\n",
    "          \"48\":15,\n",
    "          \"49\":16,\n",
    "          \"50\":17,\n",
    "          \"51\":18,\n",
    "          \"55\":19,\n",
    "          \"56\":20,\n",
    "          \"57\":21\n",
    "         }\n"
   ]
  },
  {
   "cell_type": "code",
   "execution_count": 115,
   "metadata": {},
   "outputs": [
    {
     "name": "stderr",
     "output_type": "stream",
     "text": [
      "/home/stanlee321/anaconda3/envs/cv-env/lib/python3.6/site-packages/ipykernel_launcher.py:6: FutureWarning: Sorting because non-concatenation axis is not aligned. A future version\n",
      "of pandas will change to not sort by default.\n",
      "\n",
      "To accept the future behavior, pass 'sort=False'.\n",
      "\n",
      "To retain the current behavior and silence the warning, pass 'sort=True'.\n",
      "\n",
      "  \n"
     ]
    }
   ],
   "source": [
    "# Create list of concat datafmes\n",
    "all_df = []\n",
    "\n",
    "for i, u in enumerate(uniques):\n",
    "    \n",
    "    all_df.append({str(u): pd.concat(list_of_dicts[i][str(u)], ignore_index=True) })"
   ]
  },
  {
   "cell_type": "code",
   "execution_count": 116,
   "metadata": {},
   "outputs": [],
   "source": [
    "# Query some df with key as the size of the dataframe.\n",
    "# [7, 37, 38, 39, 40, 41, 42, 43, 44, 45, 46, 48, 49, 50, 51, 55, 56, 57]\n",
    "\n",
    "def query_df(key):\n",
    "    value = maping[key]\n",
    "    return all_df[value][key]\n",
    "    \n",
    "\n",
    "df_7 = query_df(\"7\")"
   ]
  },
  {
   "cell_type": "code",
   "execution_count": 117,
   "metadata": {},
   "outputs": [
    {
     "data": {
      "text/html": [
       "<div>\n",
       "<style scoped>\n",
       "    .dataframe tbody tr th:only-of-type {\n",
       "        vertical-align: middle;\n",
       "    }\n",
       "\n",
       "    .dataframe tbody tr th {\n",
       "        vertical-align: top;\n",
       "    }\n",
       "\n",
       "    .dataframe thead th {\n",
       "        text-align: right;\n",
       "    }\n",
       "</style>\n",
       "<table border=\"1\" class=\"dataframe\">\n",
       "  <thead>\n",
       "    <tr style=\"text-align: right;\">\n",
       "      <th></th>\n",
       "      <th>ExifOffset</th>\n",
       "      <th>Software</th>\n",
       "      <th>Orientation</th>\n",
       "      <th>DateTime</th>\n",
       "      <th>Unnamed: 5</th>\n",
       "      <th>current_download_datetime</th>\n",
       "      <th>image_src</th>\n",
       "    </tr>\n",
       "  </thead>\n",
       "  <tbody>\n",
       "    <tr>\n",
       "      <th>0</th>\n",
       "      <td>2200</td>\n",
       "      <td>Microsoft Windows Photo Viewer 6.1.7600.16385</td>\n",
       "      <td>1</td>\n",
       "      <td>2019:10:21 13:12:02</td>\n",
       "      <td>b'\\x1c\\xea\\x00\\x00\\x00\\x08\\x00\\x00\\x00\\x00\\x00...</td>\n",
       "      <td>2019-11-02 09:01:55.535612</td>\n",
       "      <td>https://trep.oep.org.bo/resul/imgActa/13271.jpg</td>\n",
       "    </tr>\n",
       "    <tr>\n",
       "      <th>1</th>\n",
       "      <td>2200</td>\n",
       "      <td>Microsoft Windows Photo Viewer 6.1.7600.16385</td>\n",
       "      <td>1</td>\n",
       "      <td>2019:10:21 12:34:06</td>\n",
       "      <td>b'\\x1c\\xea\\x00\\x00\\x00\\x08\\x00\\x00\\x00\\x00\\x00...</td>\n",
       "      <td>2019-11-02 18:30:11.904508</td>\n",
       "      <td>https://trep.oep.org.bo/resul/imgActa/19161.jpg</td>\n",
       "    </tr>\n",
       "    <tr>\n",
       "      <th>2</th>\n",
       "      <td>2200</td>\n",
       "      <td>Microsoft Windows Photo Viewer 6.1.7600.16385</td>\n",
       "      <td>1</td>\n",
       "      <td>2019:10:21 12:58:42</td>\n",
       "      <td>b'\\x1c\\xea\\x00\\x00\\x00\\x08\\x00\\x00\\x00\\x00\\x00...</td>\n",
       "      <td>2019-11-02 09:00:21.615778</td>\n",
       "      <td>https://trep.oep.org.bo/resul/imgActa/11211.jpg</td>\n",
       "    </tr>\n",
       "    <tr>\n",
       "      <th>3</th>\n",
       "      <td>2200</td>\n",
       "      <td>Microsoft Windows Photo Viewer 6.1.7600.16385</td>\n",
       "      <td>1</td>\n",
       "      <td>2019:10:21 12:22:41</td>\n",
       "      <td>b'\\x1c\\xea\\x00\\x00\\x00\\x08\\x00\\x00\\x00\\x00\\x00...</td>\n",
       "      <td>2019-11-02 18:30:11.575578</td>\n",
       "      <td>https://trep.oep.org.bo/resul/imgActa/19151.jpg</td>\n",
       "    </tr>\n",
       "    <tr>\n",
       "      <th>4</th>\n",
       "      <td>2200</td>\n",
       "      <td>Microsoft Windows Photo Viewer 6.1.7600.16385</td>\n",
       "      <td>1</td>\n",
       "      <td>2019:10:21 12:21:55</td>\n",
       "      <td>b'\\x1c\\xea\\x00\\x00\\x00\\x08\\x00\\x00\\x00\\x00\\x00...</td>\n",
       "      <td>2019-11-02 18:30:11.188464</td>\n",
       "      <td>https://trep.oep.org.bo/resul/imgActa/19141.jpg</td>\n",
       "    </tr>\n",
       "  </tbody>\n",
       "</table>\n",
       "</div>"
      ],
      "text/plain": [
       "   ExifOffset                                       Software  Orientation  \\\n",
       "0        2200  Microsoft Windows Photo Viewer 6.1.7600.16385            1   \n",
       "1        2200  Microsoft Windows Photo Viewer 6.1.7600.16385            1   \n",
       "2        2200  Microsoft Windows Photo Viewer 6.1.7600.16385            1   \n",
       "3        2200  Microsoft Windows Photo Viewer 6.1.7600.16385            1   \n",
       "4        2200  Microsoft Windows Photo Viewer 6.1.7600.16385            1   \n",
       "\n",
       "              DateTime                                         Unnamed: 5  \\\n",
       "0  2019:10:21 13:12:02  b'\\x1c\\xea\\x00\\x00\\x00\\x08\\x00\\x00\\x00\\x00\\x00...   \n",
       "1  2019:10:21 12:34:06  b'\\x1c\\xea\\x00\\x00\\x00\\x08\\x00\\x00\\x00\\x00\\x00...   \n",
       "2  2019:10:21 12:58:42  b'\\x1c\\xea\\x00\\x00\\x00\\x08\\x00\\x00\\x00\\x00\\x00...   \n",
       "3  2019:10:21 12:22:41  b'\\x1c\\xea\\x00\\x00\\x00\\x08\\x00\\x00\\x00\\x00\\x00...   \n",
       "4  2019:10:21 12:21:55  b'\\x1c\\xea\\x00\\x00\\x00\\x08\\x00\\x00\\x00\\x00\\x00...   \n",
       "\n",
       "    current_download_datetime                                        image_src  \n",
       "0  2019-11-02 09:01:55.535612  https://trep.oep.org.bo/resul/imgActa/13271.jpg  \n",
       "1  2019-11-02 18:30:11.904508  https://trep.oep.org.bo/resul/imgActa/19161.jpg  \n",
       "2  2019-11-02 09:00:21.615778  https://trep.oep.org.bo/resul/imgActa/11211.jpg  \n",
       "3  2019-11-02 18:30:11.575578  https://trep.oep.org.bo/resul/imgActa/19151.jpg  \n",
       "4  2019-11-02 18:30:11.188464  https://trep.oep.org.bo/resul/imgActa/19141.jpg  "
      ]
     },
     "execution_count": 117,
     "metadata": {},
     "output_type": "execute_result"
    }
   ],
   "source": [
    "df_7.head()"
   ]
  },
  {
   "cell_type": "code",
   "execution_count": 118,
   "metadata": {},
   "outputs": [
    {
     "data": {
      "text/plain": [
       "array([ 7, 32, 34, 36, 37, 38, 39, 40, 41, 42, 43, 44, 45, 46, 47, 48, 49,\n",
       "       50, 51, 55, 56, 57])"
      ]
     },
     "execution_count": 118,
     "metadata": {},
     "output_type": "execute_result"
    }
   ],
   "source": [
    "uniques"
   ]
  },
  {
   "cell_type": "code",
   "execution_count": 119,
   "metadata": {},
   "outputs": [],
   "source": [
    "# Obtain the column names for each dataframe\n",
    "\n",
    "col_names = []\n",
    "\n",
    "for u in uniques:\n",
    "    \n",
    "    df = query_df(str(u))\n",
    "    \n",
    "    col_names += list(df.columns)"
   ]
  },
  {
   "cell_type": "code",
   "execution_count": 120,
   "metadata": {},
   "outputs": [
    {
     "name": "stdout",
     "output_type": "stream",
     "text": [
      "1040\n",
      "['ExifOffset', 'Software', 'Orientation', 'DateTime', 'Unnamed: 5', 'current_download_datetime', 'image_src', 'ExifVersion', 'ColorSpace', 'ExifImageWidth']\n"
     ]
    }
   ],
   "source": [
    "print(len(col_names))\n",
    "print(col_names[:10])"
   ]
  },
  {
   "cell_type": "code",
   "execution_count": 121,
   "metadata": {},
   "outputs": [
    {
     "name": "stdout",
     "output_type": "stream",
     "text": [
      "73\n",
      "['ApertureValue' 'BitsPerSample' 'BrightnessValue' 'ColorSpace'\n",
      " 'ComponentsConfiguration' 'CompressedBitsPerPixel' 'Contrast'\n",
      " 'CustomRendered' 'DateTime' 'DateTimeDigitized']\n"
     ]
    }
   ],
   "source": [
    "unique_col_names = np.unique(col_names)\n",
    "\n",
    "print(len(unique_col_names))\n",
    "print(unique_col_names[:10])"
   ]
  },
  {
   "cell_type": "code",
   "execution_count": 122,
   "metadata": {},
   "outputs": [
    {
     "name": "stdout",
     "output_type": "stream",
     "text": [
      "[{'ApertureValue': 18}, {'BitsPerSample': 3}, {'BrightnessValue': 16}, {'ColorSpace': 21}, {'ComponentsConfiguration': 16}, {'CompressedBitsPerPixel': 2}, {'Contrast': 10}, {'CustomRendered': 6}, {'DateTime': 22}, {'DateTimeDigitized': 21}, {'DateTimeOriginal': 21}, {'DeviceSettingDescription': 2}, {'DigitalZoomRatio': 15}, {'ExifImageHeight': 21}, {'ExifImageWidth': 21}, {'ExifInteroperabilityOffset': 17}, {'ExifOffset': 22}, {'ExifVersion': 21}, {'ExposureBiasValue': 19}, {'ExposureMode': 20}, {'ExposureProgram': 20}, {'ExposureTime': 21}, {'FNumber': 21}, {'FileSource': 3}, {'Flash': 21}, {'FlashPixVersion': 18}, {'FocalLength': 21}, {'FocalLengthIn35mmFilm': 19}, {'GPSInfo': 14}, {'GainControl': 3}, {'ISOSpeedRatings': 21}, {'ImageDescription': 6}, {'ImageLength': 18}, {'ImageUniqueID': 15}, {'ImageWidth': 18}, {'LightSource': 13}, {'Make': 21}, {'MakerNote': 19}, {'MaxApertureValue': 17}, {'MeteringMode': 21}, {'Model': 21}, {'Orientation': 22}, {'ResolutionUnit': 21}, {'Saturation': 10}, {'SceneCaptureType': 20}, {'SceneType': 14}, {'SensingMethod': 13}, {'Sharpness': 7}, {'ShutterSpeedValue': 18}, {'Software': 21}, {'SubjectDistanceRange': 4}, {'SubsecTime': 16}, {'SubsecTimeDigitized': 16}, {'SubsecTimeOriginal': 16}, {'Unnamed: 22': 1}, {'Unnamed: 23': 5}, {'Unnamed: 24': 5}, {'Unnamed: 25': 3}, {'Unnamed: 26': 4}, {'Unnamed: 27': 4}, {'Unnamed: 28': 4}, {'Unnamed: 29': 3}, {'Unnamed: 30': 1}, {'Unnamed: 32': 1}, {'Unnamed: 41': 1}, {'Unnamed: 5': 1}, {'UserComment': 16}, {'WhiteBalance': 21}, {'XResolution': 21}, {'YCbCrPositioning': 21}, {'YResolution': 21}, {'current_download_datetime': 22}, {'image_src': 22}]\n"
     ]
    }
   ],
   "source": [
    "my_counts = []\n",
    "for  unique in unique_col_names:\n",
    "    counts = col_names.count(unique)\n",
    "    my_counts.append({unique: counts})\n",
    "\n",
    "print(my_counts)"
   ]
  },
  {
   "cell_type": "code",
   "execution_count": null,
   "metadata": {},
   "outputs": [],
   "source": [
    "# Combine all df in one dataframe\n"
   ]
  },
  {
   "cell_type": "code",
   "execution_count": 123,
   "metadata": {},
   "outputs": [
    {
     "name": "stderr",
     "output_type": "stream",
     "text": [
      "/home/stanlee321/anaconda3/envs/cv-env/lib/python3.6/site-packages/ipykernel_launcher.py:6: FutureWarning: Sorting because non-concatenation axis is not aligned. A future version\n",
      "of pandas will change to not sort by default.\n",
      "\n",
      "To accept the future behavior, pass 'sort=False'.\n",
      "\n",
      "To retain the current behavior and silence the warning, pass 'sort=True'.\n",
      "\n",
      "  \n"
     ]
    }
   ],
   "source": [
    "def create_unique_df():\n",
    "    dfs = []\n",
    "    for u in uniques:\n",
    "        dfs.append( query_df(str(u)) )\n",
    "    \n",
    "    return pd.concat(dfs, ignore_index=True)\n",
    "\n",
    "raw_df = create_unique_df()"
   ]
  },
  {
   "cell_type": "code",
   "execution_count": 124,
   "metadata": {},
   "outputs": [
    {
     "data": {
      "text/html": [
       "<div>\n",
       "<style scoped>\n",
       "    .dataframe tbody tr th:only-of-type {\n",
       "        vertical-align: middle;\n",
       "    }\n",
       "\n",
       "    .dataframe tbody tr th {\n",
       "        vertical-align: top;\n",
       "    }\n",
       "\n",
       "    .dataframe thead th {\n",
       "        text-align: right;\n",
       "    }\n",
       "</style>\n",
       "<table border=\"1\" class=\"dataframe\">\n",
       "  <thead>\n",
       "    <tr style=\"text-align: right;\">\n",
       "      <th></th>\n",
       "      <th>ApertureValue</th>\n",
       "      <th>BitsPerSample</th>\n",
       "      <th>BrightnessValue</th>\n",
       "      <th>ColorSpace</th>\n",
       "      <th>ComponentsConfiguration</th>\n",
       "      <th>CompressedBitsPerPixel</th>\n",
       "      <th>Contrast</th>\n",
       "      <th>CustomRendered</th>\n",
       "      <th>DateTime</th>\n",
       "      <th>DateTimeDigitized</th>\n",
       "      <th>...</th>\n",
       "      <th>Unnamed: 32</th>\n",
       "      <th>Unnamed: 41</th>\n",
       "      <th>Unnamed: 5</th>\n",
       "      <th>UserComment</th>\n",
       "      <th>WhiteBalance</th>\n",
       "      <th>XResolution</th>\n",
       "      <th>YCbCrPositioning</th>\n",
       "      <th>YResolution</th>\n",
       "      <th>current_download_datetime</th>\n",
       "      <th>image_src</th>\n",
       "    </tr>\n",
       "  </thead>\n",
       "  <tbody>\n",
       "    <tr>\n",
       "      <th>0</th>\n",
       "      <td>NaN</td>\n",
       "      <td>NaN</td>\n",
       "      <td>NaN</td>\n",
       "      <td>NaN</td>\n",
       "      <td>NaN</td>\n",
       "      <td>NaN</td>\n",
       "      <td>NaN</td>\n",
       "      <td>NaN</td>\n",
       "      <td>2019:10:21 13:12:02</td>\n",
       "      <td>NaN</td>\n",
       "      <td>...</td>\n",
       "      <td>NaN</td>\n",
       "      <td>NaN</td>\n",
       "      <td>b'\\x1c\\xea\\x00\\x00\\x00\\x08\\x00\\x00\\x00\\x00\\x00...</td>\n",
       "      <td>NaN</td>\n",
       "      <td>NaN</td>\n",
       "      <td>NaN</td>\n",
       "      <td>NaN</td>\n",
       "      <td>NaN</td>\n",
       "      <td>2019-11-02 09:01:55.535612</td>\n",
       "      <td>https://trep.oep.org.bo/resul/imgActa/13271.jpg</td>\n",
       "    </tr>\n",
       "    <tr>\n",
       "      <th>1</th>\n",
       "      <td>NaN</td>\n",
       "      <td>NaN</td>\n",
       "      <td>NaN</td>\n",
       "      <td>NaN</td>\n",
       "      <td>NaN</td>\n",
       "      <td>NaN</td>\n",
       "      <td>NaN</td>\n",
       "      <td>NaN</td>\n",
       "      <td>2019:10:21 12:34:06</td>\n",
       "      <td>NaN</td>\n",
       "      <td>...</td>\n",
       "      <td>NaN</td>\n",
       "      <td>NaN</td>\n",
       "      <td>b'\\x1c\\xea\\x00\\x00\\x00\\x08\\x00\\x00\\x00\\x00\\x00...</td>\n",
       "      <td>NaN</td>\n",
       "      <td>NaN</td>\n",
       "      <td>NaN</td>\n",
       "      <td>NaN</td>\n",
       "      <td>NaN</td>\n",
       "      <td>2019-11-02 18:30:11.904508</td>\n",
       "      <td>https://trep.oep.org.bo/resul/imgActa/19161.jpg</td>\n",
       "    </tr>\n",
       "    <tr>\n",
       "      <th>2</th>\n",
       "      <td>NaN</td>\n",
       "      <td>NaN</td>\n",
       "      <td>NaN</td>\n",
       "      <td>NaN</td>\n",
       "      <td>NaN</td>\n",
       "      <td>NaN</td>\n",
       "      <td>NaN</td>\n",
       "      <td>NaN</td>\n",
       "      <td>2019:10:21 12:58:42</td>\n",
       "      <td>NaN</td>\n",
       "      <td>...</td>\n",
       "      <td>NaN</td>\n",
       "      <td>NaN</td>\n",
       "      <td>b'\\x1c\\xea\\x00\\x00\\x00\\x08\\x00\\x00\\x00\\x00\\x00...</td>\n",
       "      <td>NaN</td>\n",
       "      <td>NaN</td>\n",
       "      <td>NaN</td>\n",
       "      <td>NaN</td>\n",
       "      <td>NaN</td>\n",
       "      <td>2019-11-02 09:00:21.615778</td>\n",
       "      <td>https://trep.oep.org.bo/resul/imgActa/11211.jpg</td>\n",
       "    </tr>\n",
       "    <tr>\n",
       "      <th>3</th>\n",
       "      <td>NaN</td>\n",
       "      <td>NaN</td>\n",
       "      <td>NaN</td>\n",
       "      <td>NaN</td>\n",
       "      <td>NaN</td>\n",
       "      <td>NaN</td>\n",
       "      <td>NaN</td>\n",
       "      <td>NaN</td>\n",
       "      <td>2019:10:21 12:22:41</td>\n",
       "      <td>NaN</td>\n",
       "      <td>...</td>\n",
       "      <td>NaN</td>\n",
       "      <td>NaN</td>\n",
       "      <td>b'\\x1c\\xea\\x00\\x00\\x00\\x08\\x00\\x00\\x00\\x00\\x00...</td>\n",
       "      <td>NaN</td>\n",
       "      <td>NaN</td>\n",
       "      <td>NaN</td>\n",
       "      <td>NaN</td>\n",
       "      <td>NaN</td>\n",
       "      <td>2019-11-02 18:30:11.575578</td>\n",
       "      <td>https://trep.oep.org.bo/resul/imgActa/19151.jpg</td>\n",
       "    </tr>\n",
       "    <tr>\n",
       "      <th>4</th>\n",
       "      <td>NaN</td>\n",
       "      <td>NaN</td>\n",
       "      <td>NaN</td>\n",
       "      <td>NaN</td>\n",
       "      <td>NaN</td>\n",
       "      <td>NaN</td>\n",
       "      <td>NaN</td>\n",
       "      <td>NaN</td>\n",
       "      <td>2019:10:21 12:21:55</td>\n",
       "      <td>NaN</td>\n",
       "      <td>...</td>\n",
       "      <td>NaN</td>\n",
       "      <td>NaN</td>\n",
       "      <td>b'\\x1c\\xea\\x00\\x00\\x00\\x08\\x00\\x00\\x00\\x00\\x00...</td>\n",
       "      <td>NaN</td>\n",
       "      <td>NaN</td>\n",
       "      <td>NaN</td>\n",
       "      <td>NaN</td>\n",
       "      <td>NaN</td>\n",
       "      <td>2019-11-02 18:30:11.188464</td>\n",
       "      <td>https://trep.oep.org.bo/resul/imgActa/19141.jpg</td>\n",
       "    </tr>\n",
       "  </tbody>\n",
       "</table>\n",
       "<p>5 rows × 73 columns</p>\n",
       "</div>"
      ],
      "text/plain": [
       "  ApertureValue BitsPerSample BrightnessValue  ColorSpace  \\\n",
       "0           NaN           NaN             NaN         NaN   \n",
       "1           NaN           NaN             NaN         NaN   \n",
       "2           NaN           NaN             NaN         NaN   \n",
       "3           NaN           NaN             NaN         NaN   \n",
       "4           NaN           NaN             NaN         NaN   \n",
       "\n",
       "  ComponentsConfiguration CompressedBitsPerPixel  Contrast  CustomRendered  \\\n",
       "0                     NaN                    NaN       NaN             NaN   \n",
       "1                     NaN                    NaN       NaN             NaN   \n",
       "2                     NaN                    NaN       NaN             NaN   \n",
       "3                     NaN                    NaN       NaN             NaN   \n",
       "4                     NaN                    NaN       NaN             NaN   \n",
       "\n",
       "              DateTime DateTimeDigitized  ... Unnamed: 32 Unnamed: 41  \\\n",
       "0  2019:10:21 13:12:02               NaN  ...         NaN         NaN   \n",
       "1  2019:10:21 12:34:06               NaN  ...         NaN         NaN   \n",
       "2  2019:10:21 12:58:42               NaN  ...         NaN         NaN   \n",
       "3  2019:10:21 12:22:41               NaN  ...         NaN         NaN   \n",
       "4  2019:10:21 12:21:55               NaN  ...         NaN         NaN   \n",
       "\n",
       "                                          Unnamed: 5  UserComment  \\\n",
       "0  b'\\x1c\\xea\\x00\\x00\\x00\\x08\\x00\\x00\\x00\\x00\\x00...          NaN   \n",
       "1  b'\\x1c\\xea\\x00\\x00\\x00\\x08\\x00\\x00\\x00\\x00\\x00...          NaN   \n",
       "2  b'\\x1c\\xea\\x00\\x00\\x00\\x08\\x00\\x00\\x00\\x00\\x00...          NaN   \n",
       "3  b'\\x1c\\xea\\x00\\x00\\x00\\x08\\x00\\x00\\x00\\x00\\x00...          NaN   \n",
       "4  b'\\x1c\\xea\\x00\\x00\\x00\\x08\\x00\\x00\\x00\\x00\\x00...          NaN   \n",
       "\n",
       "   WhiteBalance  XResolution  YCbCrPositioning YResolution  \\\n",
       "0           NaN          NaN               NaN         NaN   \n",
       "1           NaN          NaN               NaN         NaN   \n",
       "2           NaN          NaN               NaN         NaN   \n",
       "3           NaN          NaN               NaN         NaN   \n",
       "4           NaN          NaN               NaN         NaN   \n",
       "\n",
       "    current_download_datetime                                        image_src  \n",
       "0  2019-11-02 09:01:55.535612  https://trep.oep.org.bo/resul/imgActa/13271.jpg  \n",
       "1  2019-11-02 18:30:11.904508  https://trep.oep.org.bo/resul/imgActa/19161.jpg  \n",
       "2  2019-11-02 09:00:21.615778  https://trep.oep.org.bo/resul/imgActa/11211.jpg  \n",
       "3  2019-11-02 18:30:11.575578  https://trep.oep.org.bo/resul/imgActa/19151.jpg  \n",
       "4  2019-11-02 18:30:11.188464  https://trep.oep.org.bo/resul/imgActa/19141.jpg  \n",
       "\n",
       "[5 rows x 73 columns]"
      ]
     },
     "execution_count": 124,
     "metadata": {},
     "output_type": "execute_result"
    }
   ],
   "source": [
    "raw_df.head()"
   ]
  },
  {
   "cell_type": "code",
   "execution_count": 125,
   "metadata": {},
   "outputs": [
    {
     "data": {
      "text/plain": [
       "(1114, 73)"
      ]
     },
     "execution_count": 125,
     "metadata": {},
     "output_type": "execute_result"
    }
   ],
   "source": [
    "raw_df.shape"
   ]
  },
  {
   "cell_type": "code",
   "execution_count": 126,
   "metadata": {},
   "outputs": [],
   "source": [
    "df = raw_df.copy()\n",
    "\n",
    "# Insert the column\n",
    "# Complete the call to convert the date column\n",
    "df['time'] =  pd.to_datetime(df['DateTime'],\n",
    "                              format='%Y:%m:%d %H:%M:%S')\n"
   ]
  },
  {
   "cell_type": "code",
   "execution_count": 127,
   "metadata": {},
   "outputs": [
    {
     "name": "stdout",
     "output_type": "stream",
     "text": [
      "<class 'pandas.core.frame.DataFrame'>\n",
      "RangeIndex: 1114 entries, 0 to 1113\n",
      "Data columns (total 74 columns):\n",
      "ApertureValue                 859 non-null object\n",
      "BitsPerSample                 34 non-null object\n",
      "BrightnessValue               814 non-null object\n",
      "ColorSpace                    1108 non-null float64\n",
      "ComponentsConfiguration       1017 non-null object\n",
      "CompressedBitsPerPixel        23 non-null object\n",
      "Contrast                      176 non-null float64\n",
      "CustomRendered                84 non-null float64\n",
      "DateTime                      1114 non-null object\n",
      "DateTimeDigitized             1108 non-null object\n",
      "DateTimeOriginal              1108 non-null object\n",
      "DeviceSettingDescription      2 non-null object\n",
      "DigitalZoomRatio              409 non-null object\n",
      "ExifImageHeight               1108 non-null float64\n",
      "ExifImageWidth                1108 non-null float64\n",
      "ExifInteroperabilityOffset    1015 non-null float64\n",
      "ExifOffset                    1114 non-null int64\n",
      "ExifVersion                   1108 non-null object\n",
      "ExposureBiasValue             1100 non-null object\n",
      "ExposureMode                  1104 non-null float64\n",
      "ExposureProgram               1104 non-null float64\n",
      "ExposureTime                  1108 non-null object\n",
      "FNumber                       1108 non-null object\n",
      "FileSource                    34 non-null object\n",
      "Flash                         1106 non-null float64\n",
      "FlashPixVersion               1081 non-null object\n",
      "FocalLength                   1108 non-null object\n",
      "FocalLengthIn35mmFilm         922 non-null float64\n",
      "GPSInfo                       289 non-null object\n",
      "GainControl                   34 non-null float64\n",
      "ISOSpeedRatings               1108 non-null float64\n",
      "ImageDescription              11 non-null object\n",
      "ImageLength                   336 non-null float64\n",
      "ImageUniqueID                 803 non-null object\n",
      "ImageWidth                    336 non-null float64\n",
      "LightSource                   431 non-null float64\n",
      "Make                          1108 non-null object\n",
      "MakerNote                     621 non-null object\n",
      "MaxApertureValue              836 non-null object\n",
      "MeteringMode                  1108 non-null float64\n",
      "Model                         1108 non-null object\n",
      "Orientation                   1098 non-null float64\n",
      "ResolutionUnit                1108 non-null float64\n",
      "Saturation                    176 non-null float64\n",
      "SceneCaptureType              1104 non-null float64\n",
      "SceneType                     264 non-null object\n",
      "SensingMethod                 171 non-null float64\n",
      "Sharpness                     145 non-null float64\n",
      "ShutterSpeedValue             854 non-null object\n",
      "Software                      1100 non-null object\n",
      "SubjectDistanceRange          44 non-null float64\n",
      "SubsecTime                    938 non-null float64\n",
      "SubsecTimeDigitized           938 non-null float64\n",
      "SubsecTimeOriginal            938 non-null float64\n",
      "Unnamed: 22                   1 non-null float64\n",
      "Unnamed: 23                   145 non-null object\n",
      "Unnamed: 24                   151 non-null object\n",
      "Unnamed: 25                   11 non-null object\n",
      "Unnamed: 26                   142 non-null float64\n",
      "Unnamed: 27                   151 non-null float64\n",
      "Unnamed: 28                   150 non-null float64\n",
      "Unnamed: 29                   9 non-null float64\n",
      "Unnamed: 30                   0 non-null float64\n",
      "Unnamed: 32                   0 non-null float64\n",
      "Unnamed: 41                   1 non-null object\n",
      "Unnamed: 5                    6 non-null object\n",
      "UserComment                   751 non-null object\n",
      "WhiteBalance                  1108 non-null float64\n",
      "XResolution                   1108 non-null object\n",
      "YCbCrPositioning              1108 non-null float64\n",
      "YResolution                   1108 non-null object\n",
      "current_download_datetime     1114 non-null object\n",
      "image_src                     1114 non-null object\n",
      "time                          1114 non-null datetime64[ns]\n",
      "dtypes: datetime64[ns](1), float64(35), int64(1), object(37)\n",
      "memory usage: 644.1+ KB\n",
      "None\n"
     ]
    }
   ],
   "source": [
    "print(df.info())\n"
   ]
  },
  {
   "cell_type": "code",
   "execution_count": 128,
   "metadata": {},
   "outputs": [
    {
     "data": {
      "text/html": [
       "<div>\n",
       "<style scoped>\n",
       "    .dataframe tbody tr th:only-of-type {\n",
       "        vertical-align: middle;\n",
       "    }\n",
       "\n",
       "    .dataframe tbody tr th {\n",
       "        vertical-align: top;\n",
       "    }\n",
       "\n",
       "    .dataframe thead th {\n",
       "        text-align: right;\n",
       "    }\n",
       "</style>\n",
       "<table border=\"1\" class=\"dataframe\">\n",
       "  <thead>\n",
       "    <tr style=\"text-align: right;\">\n",
       "      <th></th>\n",
       "      <th>ApertureValue</th>\n",
       "      <th>BitsPerSample</th>\n",
       "      <th>BrightnessValue</th>\n",
       "      <th>ColorSpace</th>\n",
       "      <th>ComponentsConfiguration</th>\n",
       "      <th>CompressedBitsPerPixel</th>\n",
       "      <th>Contrast</th>\n",
       "      <th>CustomRendered</th>\n",
       "      <th>DateTime</th>\n",
       "      <th>DateTimeDigitized</th>\n",
       "      <th>...</th>\n",
       "      <th>Unnamed: 41</th>\n",
       "      <th>Unnamed: 5</th>\n",
       "      <th>UserComment</th>\n",
       "      <th>WhiteBalance</th>\n",
       "      <th>XResolution</th>\n",
       "      <th>YCbCrPositioning</th>\n",
       "      <th>YResolution</th>\n",
       "      <th>current_download_datetime</th>\n",
       "      <th>image_src</th>\n",
       "      <th>time</th>\n",
       "    </tr>\n",
       "  </thead>\n",
       "  <tbody>\n",
       "    <tr>\n",
       "      <th>872</th>\n",
       "      <td>(227, 100)</td>\n",
       "      <td>NaN</td>\n",
       "      <td>(0, 100)</td>\n",
       "      <td>1.0</td>\n",
       "      <td>b'\\x01\\x02\\x03\\x00'</td>\n",
       "      <td>NaN</td>\n",
       "      <td>NaN</td>\n",
       "      <td>NaN</td>\n",
       "      <td>2019:10:15 06:21:12</td>\n",
       "      <td>2019:10:15 06:21:12</td>\n",
       "      <td>...</td>\n",
       "      <td>NaN</td>\n",
       "      <td>NaN</td>\n",
       "      <td>b'ASCII\\x00\\x00\\x00\\xf0\\\\\\x00\\x00=\\xd8\\x00\\x00...</td>\n",
       "      <td>0.0</td>\n",
       "      <td>(72, 1)</td>\n",
       "      <td>1.0</td>\n",
       "      <td>(72, 1)</td>\n",
       "      <td>2019-11-02 14:16:34.001939</td>\n",
       "      <td>https://trep.oep.org.bo/resul/imgActa/509991.jpg</td>\n",
       "      <td>2019-10-15 06:21:12</td>\n",
       "    </tr>\n",
       "    <tr>\n",
       "      <th>868</th>\n",
       "      <td>(227, 100)</td>\n",
       "      <td>NaN</td>\n",
       "      <td>(0, 100)</td>\n",
       "      <td>1.0</td>\n",
       "      <td>b'\\x01\\x02\\x03\\x00'</td>\n",
       "      <td>NaN</td>\n",
       "      <td>NaN</td>\n",
       "      <td>NaN</td>\n",
       "      <td>2019:10:15 06:47:35</td>\n",
       "      <td>2019:10:15 06:47:35</td>\n",
       "      <td>...</td>\n",
       "      <td>NaN</td>\n",
       "      <td>NaN</td>\n",
       "      <td>b'ASCII\\x00\\x00\\x00\\xf0\\\\\\x00\\x00=\\xd8\\x00\\x00...</td>\n",
       "      <td>0.0</td>\n",
       "      <td>(72, 1)</td>\n",
       "      <td>1.0</td>\n",
       "      <td>(72, 1)</td>\n",
       "      <td>2019-11-02 14:16:31.772972</td>\n",
       "      <td>https://trep.oep.org.bo/resul/imgActa/509961.jpg</td>\n",
       "      <td>2019-10-15 06:47:35</td>\n",
       "    </tr>\n",
       "    <tr>\n",
       "      <th>127</th>\n",
       "      <td>(185, 100)</td>\n",
       "      <td>NaN</td>\n",
       "      <td>(173, 100)</td>\n",
       "      <td>1.0</td>\n",
       "      <td>NaN</td>\n",
       "      <td>NaN</td>\n",
       "      <td>NaN</td>\n",
       "      <td>NaN</td>\n",
       "      <td>2019:10:19 17:47:12</td>\n",
       "      <td>2019:10:19 17:47:12</td>\n",
       "      <td>...</td>\n",
       "      <td>NaN</td>\n",
       "      <td>NaN</td>\n",
       "      <td>b'\\x00\\x00\\x00\\x00\\x00\\x00\\x00\\x00\\x00\\x00\\x00...</td>\n",
       "      <td>0.0</td>\n",
       "      <td>(72, 1)</td>\n",
       "      <td>1.0</td>\n",
       "      <td>(72, 1)</td>\n",
       "      <td>2019-11-02 17:07:28.866183</td>\n",
       "      <td>https://trep.oep.org.bo/resul/imgActa/747471.jpg</td>\n",
       "      <td>2019-10-19 17:47:12</td>\n",
       "    </tr>\n",
       "    <tr>\n",
       "      <th>5</th>\n",
       "      <td>NaN</td>\n",
       "      <td>NaN</td>\n",
       "      <td>NaN</td>\n",
       "      <td>NaN</td>\n",
       "      <td>NaN</td>\n",
       "      <td>NaN</td>\n",
       "      <td>NaN</td>\n",
       "      <td>NaN</td>\n",
       "      <td>2019:10:20 11:56:14</td>\n",
       "      <td>NaN</td>\n",
       "      <td>...</td>\n",
       "      <td>NaN</td>\n",
       "      <td>b'\\x1c\\xea\\x00\\x00\\x00\\x08\\x00\\x00\\x00\\x00\\x00...</td>\n",
       "      <td>NaN</td>\n",
       "      <td>NaN</td>\n",
       "      <td>NaN</td>\n",
       "      <td>NaN</td>\n",
       "      <td>NaN</td>\n",
       "      <td>2019-11-02 18:15:02.811139</td>\n",
       "      <td>https://trep.oep.org.bo/resul/imgActa/24991.jpg</td>\n",
       "      <td>2019-10-20 11:56:14</td>\n",
       "    </tr>\n",
       "    <tr>\n",
       "      <th>780</th>\n",
       "      <td>NaN</td>\n",
       "      <td>NaN</td>\n",
       "      <td>NaN</td>\n",
       "      <td>1.0</td>\n",
       "      <td>b'\\x01\\x02\\x03\\x00'</td>\n",
       "      <td>NaN</td>\n",
       "      <td>NaN</td>\n",
       "      <td>NaN</td>\n",
       "      <td>2019:10:20 13:19:45</td>\n",
       "      <td>2019:10:20 13:19:45</td>\n",
       "      <td>...</td>\n",
       "      <td>NaN</td>\n",
       "      <td>NaN</td>\n",
       "      <td>NaN</td>\n",
       "      <td>0.0</td>\n",
       "      <td>(72, 1)</td>\n",
       "      <td>2.0</td>\n",
       "      <td>(72, 1)</td>\n",
       "      <td>2019-11-02 17:59:21.527429</td>\n",
       "      <td>https://trep.oep.org.bo/resul/imgActa/811451.jpg</td>\n",
       "      <td>2019-10-20 13:19:45</td>\n",
       "    </tr>\n",
       "  </tbody>\n",
       "</table>\n",
       "<p>5 rows × 74 columns</p>\n",
       "</div>"
      ],
      "text/plain": [
       "    ApertureValue BitsPerSample BrightnessValue  ColorSpace  \\\n",
       "872    (227, 100)           NaN        (0, 100)         1.0   \n",
       "868    (227, 100)           NaN        (0, 100)         1.0   \n",
       "127    (185, 100)           NaN      (173, 100)         1.0   \n",
       "5             NaN           NaN             NaN         NaN   \n",
       "780           NaN           NaN             NaN         1.0   \n",
       "\n",
       "    ComponentsConfiguration CompressedBitsPerPixel  Contrast  CustomRendered  \\\n",
       "872     b'\\x01\\x02\\x03\\x00'                    NaN       NaN             NaN   \n",
       "868     b'\\x01\\x02\\x03\\x00'                    NaN       NaN             NaN   \n",
       "127                     NaN                    NaN       NaN             NaN   \n",
       "5                       NaN                    NaN       NaN             NaN   \n",
       "780     b'\\x01\\x02\\x03\\x00'                    NaN       NaN             NaN   \n",
       "\n",
       "                DateTime    DateTimeDigitized  ... Unnamed: 41  \\\n",
       "872  2019:10:15 06:21:12  2019:10:15 06:21:12  ...         NaN   \n",
       "868  2019:10:15 06:47:35  2019:10:15 06:47:35  ...         NaN   \n",
       "127  2019:10:19 17:47:12  2019:10:19 17:47:12  ...         NaN   \n",
       "5    2019:10:20 11:56:14                  NaN  ...         NaN   \n",
       "780  2019:10:20 13:19:45  2019:10:20 13:19:45  ...         NaN   \n",
       "\n",
       "                                            Unnamed: 5  \\\n",
       "872                                                NaN   \n",
       "868                                                NaN   \n",
       "127                                                NaN   \n",
       "5    b'\\x1c\\xea\\x00\\x00\\x00\\x08\\x00\\x00\\x00\\x00\\x00...   \n",
       "780                                                NaN   \n",
       "\n",
       "                                           UserComment  WhiteBalance  \\\n",
       "872  b'ASCII\\x00\\x00\\x00\\xf0\\\\\\x00\\x00=\\xd8\\x00\\x00...           0.0   \n",
       "868  b'ASCII\\x00\\x00\\x00\\xf0\\\\\\x00\\x00=\\xd8\\x00\\x00...           0.0   \n",
       "127  b'\\x00\\x00\\x00\\x00\\x00\\x00\\x00\\x00\\x00\\x00\\x00...           0.0   \n",
       "5                                                  NaN           NaN   \n",
       "780                                                NaN           0.0   \n",
       "\n",
       "     XResolution  YCbCrPositioning  YResolution   current_download_datetime  \\\n",
       "872      (72, 1)               1.0      (72, 1)  2019-11-02 14:16:34.001939   \n",
       "868      (72, 1)               1.0      (72, 1)  2019-11-02 14:16:31.772972   \n",
       "127      (72, 1)               1.0      (72, 1)  2019-11-02 17:07:28.866183   \n",
       "5            NaN               NaN          NaN  2019-11-02 18:15:02.811139   \n",
       "780      (72, 1)               2.0      (72, 1)  2019-11-02 17:59:21.527429   \n",
       "\n",
       "                                            image_src                time  \n",
       "872  https://trep.oep.org.bo/resul/imgActa/509991.jpg 2019-10-15 06:21:12  \n",
       "868  https://trep.oep.org.bo/resul/imgActa/509961.jpg 2019-10-15 06:47:35  \n",
       "127  https://trep.oep.org.bo/resul/imgActa/747471.jpg 2019-10-19 17:47:12  \n",
       "5     https://trep.oep.org.bo/resul/imgActa/24991.jpg 2019-10-20 11:56:14  \n",
       "780  https://trep.oep.org.bo/resul/imgActa/811451.jpg 2019-10-20 13:19:45  \n",
       "\n",
       "[5 rows x 74 columns]"
      ]
     },
     "execution_count": 128,
     "metadata": {},
     "output_type": "execute_result"
    }
   ],
   "source": [
    "# Sort the dataframe in descending order.\n",
    "df.sort_values('time', ascending=True, inplace=True)\n",
    "df.head()"
   ]
  },
  {
   "cell_type": "code",
   "execution_count": 129,
   "metadata": {},
   "outputs": [
    {
     "data": {
      "text/html": [
       "<div>\n",
       "<style scoped>\n",
       "    .dataframe tbody tr th:only-of-type {\n",
       "        vertical-align: middle;\n",
       "    }\n",
       "\n",
       "    .dataframe tbody tr th {\n",
       "        vertical-align: top;\n",
       "    }\n",
       "\n",
       "    .dataframe thead th {\n",
       "        text-align: right;\n",
       "    }\n",
       "</style>\n",
       "<table border=\"1\" class=\"dataframe\">\n",
       "  <thead>\n",
       "    <tr style=\"text-align: right;\">\n",
       "      <th></th>\n",
       "      <th>ApertureValue</th>\n",
       "      <th>BitsPerSample</th>\n",
       "      <th>BrightnessValue</th>\n",
       "      <th>ColorSpace</th>\n",
       "      <th>ComponentsConfiguration</th>\n",
       "      <th>CompressedBitsPerPixel</th>\n",
       "      <th>Contrast</th>\n",
       "      <th>CustomRendered</th>\n",
       "      <th>DateTime</th>\n",
       "      <th>DateTimeDigitized</th>\n",
       "      <th>...</th>\n",
       "      <th>Unnamed: 32</th>\n",
       "      <th>Unnamed: 41</th>\n",
       "      <th>Unnamed: 5</th>\n",
       "      <th>UserComment</th>\n",
       "      <th>WhiteBalance</th>\n",
       "      <th>XResolution</th>\n",
       "      <th>YCbCrPositioning</th>\n",
       "      <th>YResolution</th>\n",
       "      <th>current_download_datetime</th>\n",
       "      <th>image_src</th>\n",
       "    </tr>\n",
       "    <tr>\n",
       "      <th>time</th>\n",
       "      <th></th>\n",
       "      <th></th>\n",
       "      <th></th>\n",
       "      <th></th>\n",
       "      <th></th>\n",
       "      <th></th>\n",
       "      <th></th>\n",
       "      <th></th>\n",
       "      <th></th>\n",
       "      <th></th>\n",
       "      <th></th>\n",
       "      <th></th>\n",
       "      <th></th>\n",
       "      <th></th>\n",
       "      <th></th>\n",
       "      <th></th>\n",
       "      <th></th>\n",
       "      <th></th>\n",
       "      <th></th>\n",
       "      <th></th>\n",
       "      <th></th>\n",
       "    </tr>\n",
       "  </thead>\n",
       "  <tbody>\n",
       "    <tr>\n",
       "      <th>2019-10-15 06:21:12</th>\n",
       "      <td>(227, 100)</td>\n",
       "      <td>NaN</td>\n",
       "      <td>(0, 100)</td>\n",
       "      <td>1.0</td>\n",
       "      <td>b'\\x01\\x02\\x03\\x00'</td>\n",
       "      <td>NaN</td>\n",
       "      <td>NaN</td>\n",
       "      <td>NaN</td>\n",
       "      <td>2019:10:15 06:21:12</td>\n",
       "      <td>2019:10:15 06:21:12</td>\n",
       "      <td>...</td>\n",
       "      <td>NaN</td>\n",
       "      <td>NaN</td>\n",
       "      <td>NaN</td>\n",
       "      <td>b'ASCII\\x00\\x00\\x00\\xf0\\\\\\x00\\x00=\\xd8\\x00\\x00...</td>\n",
       "      <td>0.0</td>\n",
       "      <td>(72, 1)</td>\n",
       "      <td>1.0</td>\n",
       "      <td>(72, 1)</td>\n",
       "      <td>2019-11-02 14:16:34.001939</td>\n",
       "      <td>https://trep.oep.org.bo/resul/imgActa/509991.jpg</td>\n",
       "    </tr>\n",
       "    <tr>\n",
       "      <th>2019-10-15 06:47:35</th>\n",
       "      <td>(227, 100)</td>\n",
       "      <td>NaN</td>\n",
       "      <td>(0, 100)</td>\n",
       "      <td>1.0</td>\n",
       "      <td>b'\\x01\\x02\\x03\\x00'</td>\n",
       "      <td>NaN</td>\n",
       "      <td>NaN</td>\n",
       "      <td>NaN</td>\n",
       "      <td>2019:10:15 06:47:35</td>\n",
       "      <td>2019:10:15 06:47:35</td>\n",
       "      <td>...</td>\n",
       "      <td>NaN</td>\n",
       "      <td>NaN</td>\n",
       "      <td>NaN</td>\n",
       "      <td>b'ASCII\\x00\\x00\\x00\\xf0\\\\\\x00\\x00=\\xd8\\x00\\x00...</td>\n",
       "      <td>0.0</td>\n",
       "      <td>(72, 1)</td>\n",
       "      <td>1.0</td>\n",
       "      <td>(72, 1)</td>\n",
       "      <td>2019-11-02 14:16:31.772972</td>\n",
       "      <td>https://trep.oep.org.bo/resul/imgActa/509961.jpg</td>\n",
       "    </tr>\n",
       "    <tr>\n",
       "      <th>2019-10-19 17:47:12</th>\n",
       "      <td>(185, 100)</td>\n",
       "      <td>NaN</td>\n",
       "      <td>(173, 100)</td>\n",
       "      <td>1.0</td>\n",
       "      <td>NaN</td>\n",
       "      <td>NaN</td>\n",
       "      <td>NaN</td>\n",
       "      <td>NaN</td>\n",
       "      <td>2019:10:19 17:47:12</td>\n",
       "      <td>2019:10:19 17:47:12</td>\n",
       "      <td>...</td>\n",
       "      <td>NaN</td>\n",
       "      <td>NaN</td>\n",
       "      <td>NaN</td>\n",
       "      <td>b'\\x00\\x00\\x00\\x00\\x00\\x00\\x00\\x00\\x00\\x00\\x00...</td>\n",
       "      <td>0.0</td>\n",
       "      <td>(72, 1)</td>\n",
       "      <td>1.0</td>\n",
       "      <td>(72, 1)</td>\n",
       "      <td>2019-11-02 17:07:28.866183</td>\n",
       "      <td>https://trep.oep.org.bo/resul/imgActa/747471.jpg</td>\n",
       "    </tr>\n",
       "    <tr>\n",
       "      <th>2019-10-20 11:56:14</th>\n",
       "      <td>NaN</td>\n",
       "      <td>NaN</td>\n",
       "      <td>NaN</td>\n",
       "      <td>NaN</td>\n",
       "      <td>NaN</td>\n",
       "      <td>NaN</td>\n",
       "      <td>NaN</td>\n",
       "      <td>NaN</td>\n",
       "      <td>2019:10:20 11:56:14</td>\n",
       "      <td>NaN</td>\n",
       "      <td>...</td>\n",
       "      <td>NaN</td>\n",
       "      <td>NaN</td>\n",
       "      <td>b'\\x1c\\xea\\x00\\x00\\x00\\x08\\x00\\x00\\x00\\x00\\x00...</td>\n",
       "      <td>NaN</td>\n",
       "      <td>NaN</td>\n",
       "      <td>NaN</td>\n",
       "      <td>NaN</td>\n",
       "      <td>NaN</td>\n",
       "      <td>2019-11-02 18:15:02.811139</td>\n",
       "      <td>https://trep.oep.org.bo/resul/imgActa/24991.jpg</td>\n",
       "    </tr>\n",
       "    <tr>\n",
       "      <th>2019-10-20 13:19:45</th>\n",
       "      <td>NaN</td>\n",
       "      <td>NaN</td>\n",
       "      <td>NaN</td>\n",
       "      <td>1.0</td>\n",
       "      <td>b'\\x01\\x02\\x03\\x00'</td>\n",
       "      <td>NaN</td>\n",
       "      <td>NaN</td>\n",
       "      <td>NaN</td>\n",
       "      <td>2019:10:20 13:19:45</td>\n",
       "      <td>2019:10:20 13:19:45</td>\n",
       "      <td>...</td>\n",
       "      <td>NaN</td>\n",
       "      <td>NaN</td>\n",
       "      <td>NaN</td>\n",
       "      <td>NaN</td>\n",
       "      <td>0.0</td>\n",
       "      <td>(72, 1)</td>\n",
       "      <td>2.0</td>\n",
       "      <td>(72, 1)</td>\n",
       "      <td>2019-11-02 17:59:21.527429</td>\n",
       "      <td>https://trep.oep.org.bo/resul/imgActa/811451.jpg</td>\n",
       "    </tr>\n",
       "  </tbody>\n",
       "</table>\n",
       "<p>5 rows × 73 columns</p>\n",
       "</div>"
      ],
      "text/plain": [
       "                    ApertureValue BitsPerSample BrightnessValue  ColorSpace  \\\n",
       "time                                                                          \n",
       "2019-10-15 06:21:12    (227, 100)           NaN        (0, 100)         1.0   \n",
       "2019-10-15 06:47:35    (227, 100)           NaN        (0, 100)         1.0   \n",
       "2019-10-19 17:47:12    (185, 100)           NaN      (173, 100)         1.0   \n",
       "2019-10-20 11:56:14           NaN           NaN             NaN         NaN   \n",
       "2019-10-20 13:19:45           NaN           NaN             NaN         1.0   \n",
       "\n",
       "                    ComponentsConfiguration CompressedBitsPerPixel  Contrast  \\\n",
       "time                                                                           \n",
       "2019-10-15 06:21:12     b'\\x01\\x02\\x03\\x00'                    NaN       NaN   \n",
       "2019-10-15 06:47:35     b'\\x01\\x02\\x03\\x00'                    NaN       NaN   \n",
       "2019-10-19 17:47:12                     NaN                    NaN       NaN   \n",
       "2019-10-20 11:56:14                     NaN                    NaN       NaN   \n",
       "2019-10-20 13:19:45     b'\\x01\\x02\\x03\\x00'                    NaN       NaN   \n",
       "\n",
       "                     CustomRendered             DateTime    DateTimeDigitized  \\\n",
       "time                                                                            \n",
       "2019-10-15 06:21:12             NaN  2019:10:15 06:21:12  2019:10:15 06:21:12   \n",
       "2019-10-15 06:47:35             NaN  2019:10:15 06:47:35  2019:10:15 06:47:35   \n",
       "2019-10-19 17:47:12             NaN  2019:10:19 17:47:12  2019:10:19 17:47:12   \n",
       "2019-10-20 11:56:14             NaN  2019:10:20 11:56:14                  NaN   \n",
       "2019-10-20 13:19:45             NaN  2019:10:20 13:19:45  2019:10:20 13:19:45   \n",
       "\n",
       "                     ... Unnamed: 32 Unnamed: 41  \\\n",
       "time                 ...                           \n",
       "2019-10-15 06:21:12  ...         NaN         NaN   \n",
       "2019-10-15 06:47:35  ...         NaN         NaN   \n",
       "2019-10-19 17:47:12  ...         NaN         NaN   \n",
       "2019-10-20 11:56:14  ...         NaN         NaN   \n",
       "2019-10-20 13:19:45  ...         NaN         NaN   \n",
       "\n",
       "                                                            Unnamed: 5  \\\n",
       "time                                                                     \n",
       "2019-10-15 06:21:12                                                NaN   \n",
       "2019-10-15 06:47:35                                                NaN   \n",
       "2019-10-19 17:47:12                                                NaN   \n",
       "2019-10-20 11:56:14  b'\\x1c\\xea\\x00\\x00\\x00\\x08\\x00\\x00\\x00\\x00\\x00...   \n",
       "2019-10-20 13:19:45                                                NaN   \n",
       "\n",
       "                                                           UserComment  \\\n",
       "time                                                                     \n",
       "2019-10-15 06:21:12  b'ASCII\\x00\\x00\\x00\\xf0\\\\\\x00\\x00=\\xd8\\x00\\x00...   \n",
       "2019-10-15 06:47:35  b'ASCII\\x00\\x00\\x00\\xf0\\\\\\x00\\x00=\\xd8\\x00\\x00...   \n",
       "2019-10-19 17:47:12  b'\\x00\\x00\\x00\\x00\\x00\\x00\\x00\\x00\\x00\\x00\\x00...   \n",
       "2019-10-20 11:56:14                                                NaN   \n",
       "2019-10-20 13:19:45                                                NaN   \n",
       "\n",
       "                     WhiteBalance  XResolution  YCbCrPositioning YResolution  \\\n",
       "time                                                                           \n",
       "2019-10-15 06:21:12           0.0      (72, 1)               1.0     (72, 1)   \n",
       "2019-10-15 06:47:35           0.0      (72, 1)               1.0     (72, 1)   \n",
       "2019-10-19 17:47:12           0.0      (72, 1)               1.0     (72, 1)   \n",
       "2019-10-20 11:56:14           NaN          NaN               NaN         NaN   \n",
       "2019-10-20 13:19:45           0.0      (72, 1)               2.0     (72, 1)   \n",
       "\n",
       "                      current_download_datetime  \\\n",
       "time                                              \n",
       "2019-10-15 06:21:12  2019-11-02 14:16:34.001939   \n",
       "2019-10-15 06:47:35  2019-11-02 14:16:31.772972   \n",
       "2019-10-19 17:47:12  2019-11-02 17:07:28.866183   \n",
       "2019-10-20 11:56:14  2019-11-02 18:15:02.811139   \n",
       "2019-10-20 13:19:45  2019-11-02 17:59:21.527429   \n",
       "\n",
       "                                                            image_src  \n",
       "time                                                                   \n",
       "2019-10-15 06:21:12  https://trep.oep.org.bo/resul/imgActa/509991.jpg  \n",
       "2019-10-15 06:47:35  https://trep.oep.org.bo/resul/imgActa/509961.jpg  \n",
       "2019-10-19 17:47:12  https://trep.oep.org.bo/resul/imgActa/747471.jpg  \n",
       "2019-10-20 11:56:14   https://trep.oep.org.bo/resul/imgActa/24991.jpg  \n",
       "2019-10-20 13:19:45  https://trep.oep.org.bo/resul/imgActa/811451.jpg  \n",
       "\n",
       "[5 rows x 73 columns]"
      ]
     },
     "execution_count": 129,
     "metadata": {},
     "output_type": "execute_result"
    }
   ],
   "source": [
    "df.set_index('time', inplace=True)\n",
    "df.head()"
   ]
  },
  {
   "cell_type": "code",
   "execution_count": 138,
   "metadata": {},
   "outputs": [
    {
     "name": "stdout",
     "output_type": "stream",
     "text": [
      "2019-10-20 02:08:00\n"
     ]
    }
   ],
   "source": [
    "import datetime\n",
    "\n",
    "\n",
    "split_date = datetime.datetime(year=2019, month=10, day=20, hour=2, minute=8)\n",
    "print(split_date)\n",
    "\n",
    "\n",
    "df['status'] = np.where(df.index < split_date, 0, 1)\n",
    "\n"
   ]
  },
  {
   "cell_type": "code",
   "execution_count": 139,
   "metadata": {},
   "outputs": [
    {
     "data": {
      "text/html": [
       "<div>\n",
       "<style scoped>\n",
       "    .dataframe tbody tr th:only-of-type {\n",
       "        vertical-align: middle;\n",
       "    }\n",
       "\n",
       "    .dataframe tbody tr th {\n",
       "        vertical-align: top;\n",
       "    }\n",
       "\n",
       "    .dataframe thead th {\n",
       "        text-align: right;\n",
       "    }\n",
       "</style>\n",
       "<table border=\"1\" class=\"dataframe\">\n",
       "  <thead>\n",
       "    <tr style=\"text-align: right;\">\n",
       "      <th></th>\n",
       "      <th>ApertureValue</th>\n",
       "      <th>BitsPerSample</th>\n",
       "      <th>BrightnessValue</th>\n",
       "      <th>ColorSpace</th>\n",
       "      <th>ComponentsConfiguration</th>\n",
       "      <th>CompressedBitsPerPixel</th>\n",
       "      <th>Contrast</th>\n",
       "      <th>CustomRendered</th>\n",
       "      <th>DateTime</th>\n",
       "      <th>DateTimeDigitized</th>\n",
       "      <th>...</th>\n",
       "      <th>Unnamed: 41</th>\n",
       "      <th>Unnamed: 5</th>\n",
       "      <th>UserComment</th>\n",
       "      <th>WhiteBalance</th>\n",
       "      <th>XResolution</th>\n",
       "      <th>YCbCrPositioning</th>\n",
       "      <th>YResolution</th>\n",
       "      <th>current_download_datetime</th>\n",
       "      <th>image_src</th>\n",
       "      <th>status</th>\n",
       "    </tr>\n",
       "    <tr>\n",
       "      <th>time</th>\n",
       "      <th></th>\n",
       "      <th></th>\n",
       "      <th></th>\n",
       "      <th></th>\n",
       "      <th></th>\n",
       "      <th></th>\n",
       "      <th></th>\n",
       "      <th></th>\n",
       "      <th></th>\n",
       "      <th></th>\n",
       "      <th></th>\n",
       "      <th></th>\n",
       "      <th></th>\n",
       "      <th></th>\n",
       "      <th></th>\n",
       "      <th></th>\n",
       "      <th></th>\n",
       "      <th></th>\n",
       "      <th></th>\n",
       "      <th></th>\n",
       "      <th></th>\n",
       "    </tr>\n",
       "  </thead>\n",
       "  <tbody>\n",
       "    <tr>\n",
       "      <th>2019-10-15 06:21:12</th>\n",
       "      <td>(227, 100)</td>\n",
       "      <td>NaN</td>\n",
       "      <td>(0, 100)</td>\n",
       "      <td>1.0</td>\n",
       "      <td>b'\\x01\\x02\\x03\\x00'</td>\n",
       "      <td>NaN</td>\n",
       "      <td>NaN</td>\n",
       "      <td>NaN</td>\n",
       "      <td>2019:10:15 06:21:12</td>\n",
       "      <td>2019:10:15 06:21:12</td>\n",
       "      <td>...</td>\n",
       "      <td>NaN</td>\n",
       "      <td>NaN</td>\n",
       "      <td>b'ASCII\\x00\\x00\\x00\\xf0\\\\\\x00\\x00=\\xd8\\x00\\x00...</td>\n",
       "      <td>0.0</td>\n",
       "      <td>(72, 1)</td>\n",
       "      <td>1.0</td>\n",
       "      <td>(72, 1)</td>\n",
       "      <td>2019-11-02 14:16:34.001939</td>\n",
       "      <td>https://trep.oep.org.bo/resul/imgActa/509991.jpg</td>\n",
       "      <td>0</td>\n",
       "    </tr>\n",
       "    <tr>\n",
       "      <th>2019-10-15 06:47:35</th>\n",
       "      <td>(227, 100)</td>\n",
       "      <td>NaN</td>\n",
       "      <td>(0, 100)</td>\n",
       "      <td>1.0</td>\n",
       "      <td>b'\\x01\\x02\\x03\\x00'</td>\n",
       "      <td>NaN</td>\n",
       "      <td>NaN</td>\n",
       "      <td>NaN</td>\n",
       "      <td>2019:10:15 06:47:35</td>\n",
       "      <td>2019:10:15 06:47:35</td>\n",
       "      <td>...</td>\n",
       "      <td>NaN</td>\n",
       "      <td>NaN</td>\n",
       "      <td>b'ASCII\\x00\\x00\\x00\\xf0\\\\\\x00\\x00=\\xd8\\x00\\x00...</td>\n",
       "      <td>0.0</td>\n",
       "      <td>(72, 1)</td>\n",
       "      <td>1.0</td>\n",
       "      <td>(72, 1)</td>\n",
       "      <td>2019-11-02 14:16:31.772972</td>\n",
       "      <td>https://trep.oep.org.bo/resul/imgActa/509961.jpg</td>\n",
       "      <td>0</td>\n",
       "    </tr>\n",
       "    <tr>\n",
       "      <th>2019-10-19 17:47:12</th>\n",
       "      <td>(185, 100)</td>\n",
       "      <td>NaN</td>\n",
       "      <td>(173, 100)</td>\n",
       "      <td>1.0</td>\n",
       "      <td>NaN</td>\n",
       "      <td>NaN</td>\n",
       "      <td>NaN</td>\n",
       "      <td>NaN</td>\n",
       "      <td>2019:10:19 17:47:12</td>\n",
       "      <td>2019:10:19 17:47:12</td>\n",
       "      <td>...</td>\n",
       "      <td>NaN</td>\n",
       "      <td>NaN</td>\n",
       "      <td>b'\\x00\\x00\\x00\\x00\\x00\\x00\\x00\\x00\\x00\\x00\\x00...</td>\n",
       "      <td>0.0</td>\n",
       "      <td>(72, 1)</td>\n",
       "      <td>1.0</td>\n",
       "      <td>(72, 1)</td>\n",
       "      <td>2019-11-02 17:07:28.866183</td>\n",
       "      <td>https://trep.oep.org.bo/resul/imgActa/747471.jpg</td>\n",
       "      <td>0</td>\n",
       "    </tr>\n",
       "  </tbody>\n",
       "</table>\n",
       "<p>3 rows × 74 columns</p>\n",
       "</div>"
      ],
      "text/plain": [
       "                    ApertureValue BitsPerSample BrightnessValue  ColorSpace  \\\n",
       "time                                                                          \n",
       "2019-10-15 06:21:12    (227, 100)           NaN        (0, 100)         1.0   \n",
       "2019-10-15 06:47:35    (227, 100)           NaN        (0, 100)         1.0   \n",
       "2019-10-19 17:47:12    (185, 100)           NaN      (173, 100)         1.0   \n",
       "\n",
       "                    ComponentsConfiguration CompressedBitsPerPixel  Contrast  \\\n",
       "time                                                                           \n",
       "2019-10-15 06:21:12     b'\\x01\\x02\\x03\\x00'                    NaN       NaN   \n",
       "2019-10-15 06:47:35     b'\\x01\\x02\\x03\\x00'                    NaN       NaN   \n",
       "2019-10-19 17:47:12                     NaN                    NaN       NaN   \n",
       "\n",
       "                     CustomRendered             DateTime    DateTimeDigitized  \\\n",
       "time                                                                            \n",
       "2019-10-15 06:21:12             NaN  2019:10:15 06:21:12  2019:10:15 06:21:12   \n",
       "2019-10-15 06:47:35             NaN  2019:10:15 06:47:35  2019:10:15 06:47:35   \n",
       "2019-10-19 17:47:12             NaN  2019:10:19 17:47:12  2019:10:19 17:47:12   \n",
       "\n",
       "                     ... Unnamed: 41 Unnamed: 5  \\\n",
       "time                 ...                          \n",
       "2019-10-15 06:21:12  ...         NaN        NaN   \n",
       "2019-10-15 06:47:35  ...         NaN        NaN   \n",
       "2019-10-19 17:47:12  ...         NaN        NaN   \n",
       "\n",
       "                                                           UserComment  \\\n",
       "time                                                                     \n",
       "2019-10-15 06:21:12  b'ASCII\\x00\\x00\\x00\\xf0\\\\\\x00\\x00=\\xd8\\x00\\x00...   \n",
       "2019-10-15 06:47:35  b'ASCII\\x00\\x00\\x00\\xf0\\\\\\x00\\x00=\\xd8\\x00\\x00...   \n",
       "2019-10-19 17:47:12  b'\\x00\\x00\\x00\\x00\\x00\\x00\\x00\\x00\\x00\\x00\\x00...   \n",
       "\n",
       "                     WhiteBalance  XResolution  YCbCrPositioning  YResolution  \\\n",
       "time                                                                            \n",
       "2019-10-15 06:21:12           0.0      (72, 1)               1.0      (72, 1)   \n",
       "2019-10-15 06:47:35           0.0      (72, 1)               1.0      (72, 1)   \n",
       "2019-10-19 17:47:12           0.0      (72, 1)               1.0      (72, 1)   \n",
       "\n",
       "                      current_download_datetime  \\\n",
       "time                                              \n",
       "2019-10-15 06:21:12  2019-11-02 14:16:34.001939   \n",
       "2019-10-15 06:47:35  2019-11-02 14:16:31.772972   \n",
       "2019-10-19 17:47:12  2019-11-02 17:07:28.866183   \n",
       "\n",
       "                                                            image_src  status  \n",
       "time                                                                           \n",
       "2019-10-15 06:21:12  https://trep.oep.org.bo/resul/imgActa/509991.jpg       0  \n",
       "2019-10-15 06:47:35  https://trep.oep.org.bo/resul/imgActa/509961.jpg       0  \n",
       "2019-10-19 17:47:12  https://trep.oep.org.bo/resul/imgActa/747471.jpg       0  \n",
       "\n",
       "[3 rows x 74 columns]"
      ]
     },
     "execution_count": 139,
     "metadata": {},
     "output_type": "execute_result"
    }
   ],
   "source": [
    "df_out = df[df[\"status\"] == 0]\n",
    "df_out"
   ]
  },
  {
   "cell_type": "code",
   "execution_count": 140,
   "metadata": {},
   "outputs": [
    {
     "data": {
      "text/plain": [
       "Index(['ApertureValue', 'BitsPerSample', 'BrightnessValue', 'ColorSpace',\n",
       "       'ComponentsConfiguration', 'CompressedBitsPerPixel', 'Contrast',\n",
       "       'CustomRendered', 'DateTime', 'DateTimeDigitized', 'DateTimeOriginal',\n",
       "       'DeviceSettingDescription', 'DigitalZoomRatio', 'ExifImageHeight',\n",
       "       'ExifImageWidth', 'ExifInteroperabilityOffset', 'ExifOffset',\n",
       "       'ExifVersion', 'ExposureBiasValue', 'ExposureMode', 'ExposureProgram',\n",
       "       'ExposureTime', 'FNumber', 'FileSource', 'Flash', 'FlashPixVersion',\n",
       "       'FocalLength', 'FocalLengthIn35mmFilm', 'GPSInfo', 'GainControl',\n",
       "       'ISOSpeedRatings', 'ImageDescription', 'ImageLength', 'ImageUniqueID',\n",
       "       'ImageWidth', 'LightSource', 'Make', 'MakerNote', 'MaxApertureValue',\n",
       "       'MeteringMode', 'Model', 'Orientation', 'ResolutionUnit', 'Saturation',\n",
       "       'SceneCaptureType', 'SceneType', 'SensingMethod', 'Sharpness',\n",
       "       'ShutterSpeedValue', 'Software', 'SubjectDistanceRange', 'SubsecTime',\n",
       "       'SubsecTimeDigitized', 'SubsecTimeOriginal', 'Unnamed: 22',\n",
       "       'Unnamed: 23', 'Unnamed: 24', 'Unnamed: 25', 'Unnamed: 26',\n",
       "       'Unnamed: 27', 'Unnamed: 28', 'Unnamed: 29', 'Unnamed: 30',\n",
       "       'Unnamed: 32', 'Unnamed: 41', 'Unnamed: 5', 'UserComment',\n",
       "       'WhiteBalance', 'XResolution', 'YCbCrPositioning', 'YResolution',\n",
       "       'current_download_datetime', 'image_src', 'status'],\n",
       "      dtype='object')"
      ]
     },
     "execution_count": 140,
     "metadata": {},
     "output_type": "execute_result"
    }
   ],
   "source": [
    "df_out.columns"
   ]
  },
  {
   "cell_type": "code",
   "execution_count": 152,
   "metadata": {},
   "outputs": [
    {
     "data": {
      "text/html": [
       "<div>\n",
       "<style scoped>\n",
       "    .dataframe tbody tr th:only-of-type {\n",
       "        vertical-align: middle;\n",
       "    }\n",
       "\n",
       "    .dataframe tbody tr th {\n",
       "        vertical-align: top;\n",
       "    }\n",
       "\n",
       "    .dataframe thead th {\n",
       "        text-align: right;\n",
       "    }\n",
       "</style>\n",
       "<table border=\"1\" class=\"dataframe\">\n",
       "  <thead>\n",
       "    <tr style=\"text-align: right;\">\n",
       "      <th></th>\n",
       "      <th>ApertureValue</th>\n",
       "      <th>BitsPerSample</th>\n",
       "      <th>BrightnessValue</th>\n",
       "      <th>ColorSpace</th>\n",
       "      <th>ComponentsConfiguration</th>\n",
       "      <th>CompressedBitsPerPixel</th>\n",
       "      <th>Contrast</th>\n",
       "      <th>CustomRendered</th>\n",
       "      <th>DateTime</th>\n",
       "      <th>DateTimeDigitized</th>\n",
       "      <th>...</th>\n",
       "      <th>Unnamed: 41</th>\n",
       "      <th>Unnamed: 5</th>\n",
       "      <th>UserComment</th>\n",
       "      <th>WhiteBalance</th>\n",
       "      <th>XResolution</th>\n",
       "      <th>YCbCrPositioning</th>\n",
       "      <th>YResolution</th>\n",
       "      <th>current_download_datetime</th>\n",
       "      <th>image_src</th>\n",
       "      <th>status</th>\n",
       "    </tr>\n",
       "    <tr>\n",
       "      <th>time</th>\n",
       "      <th></th>\n",
       "      <th></th>\n",
       "      <th></th>\n",
       "      <th></th>\n",
       "      <th></th>\n",
       "      <th></th>\n",
       "      <th></th>\n",
       "      <th></th>\n",
       "      <th></th>\n",
       "      <th></th>\n",
       "      <th></th>\n",
       "      <th></th>\n",
       "      <th></th>\n",
       "      <th></th>\n",
       "      <th></th>\n",
       "      <th></th>\n",
       "      <th></th>\n",
       "      <th></th>\n",
       "      <th></th>\n",
       "      <th></th>\n",
       "      <th></th>\n",
       "    </tr>\n",
       "  </thead>\n",
       "  <tbody>\n",
       "    <tr>\n",
       "      <th>2019-10-15 06:21:12</th>\n",
       "      <td>(227, 100)</td>\n",
       "      <td>NaN</td>\n",
       "      <td>(0, 100)</td>\n",
       "      <td>1.0</td>\n",
       "      <td>b'\\x01\\x02\\x03\\x00'</td>\n",
       "      <td>NaN</td>\n",
       "      <td>NaN</td>\n",
       "      <td>NaN</td>\n",
       "      <td>2019:10:15 06:21:12</td>\n",
       "      <td>2019:10:15 06:21:12</td>\n",
       "      <td>...</td>\n",
       "      <td>NaN</td>\n",
       "      <td>NaN</td>\n",
       "      <td>b'ASCII\\x00\\x00\\x00\\xf0\\\\\\x00\\x00=\\xd8\\x00\\x00...</td>\n",
       "      <td>0.0</td>\n",
       "      <td>(72, 1)</td>\n",
       "      <td>1.0</td>\n",
       "      <td>(72, 1)</td>\n",
       "      <td>2019-11-02 14:16:34.001939</td>\n",
       "      <td>https://trep.oep.org.bo/resul/imgActa/509991.jpg</td>\n",
       "      <td>0</td>\n",
       "    </tr>\n",
       "    <tr>\n",
       "      <th>2019-10-15 06:47:35</th>\n",
       "      <td>(227, 100)</td>\n",
       "      <td>NaN</td>\n",
       "      <td>(0, 100)</td>\n",
       "      <td>1.0</td>\n",
       "      <td>b'\\x01\\x02\\x03\\x00'</td>\n",
       "      <td>NaN</td>\n",
       "      <td>NaN</td>\n",
       "      <td>NaN</td>\n",
       "      <td>2019:10:15 06:47:35</td>\n",
       "      <td>2019:10:15 06:47:35</td>\n",
       "      <td>...</td>\n",
       "      <td>NaN</td>\n",
       "      <td>NaN</td>\n",
       "      <td>b'ASCII\\x00\\x00\\x00\\xf0\\\\\\x00\\x00=\\xd8\\x00\\x00...</td>\n",
       "      <td>0.0</td>\n",
       "      <td>(72, 1)</td>\n",
       "      <td>1.0</td>\n",
       "      <td>(72, 1)</td>\n",
       "      <td>2019-11-02 14:16:31.772972</td>\n",
       "      <td>https://trep.oep.org.bo/resul/imgActa/509961.jpg</td>\n",
       "      <td>0</td>\n",
       "    </tr>\n",
       "    <tr>\n",
       "      <th>2019-10-19 17:47:12</th>\n",
       "      <td>(185, 100)</td>\n",
       "      <td>NaN</td>\n",
       "      <td>(173, 100)</td>\n",
       "      <td>1.0</td>\n",
       "      <td>NaN</td>\n",
       "      <td>NaN</td>\n",
       "      <td>NaN</td>\n",
       "      <td>NaN</td>\n",
       "      <td>2019:10:19 17:47:12</td>\n",
       "      <td>2019:10:19 17:47:12</td>\n",
       "      <td>...</td>\n",
       "      <td>NaN</td>\n",
       "      <td>NaN</td>\n",
       "      <td>b'\\x00\\x00\\x00\\x00\\x00\\x00\\x00\\x00\\x00\\x00\\x00...</td>\n",
       "      <td>0.0</td>\n",
       "      <td>(72, 1)</td>\n",
       "      <td>1.0</td>\n",
       "      <td>(72, 1)</td>\n",
       "      <td>2019-11-02 17:07:28.866183</td>\n",
       "      <td>https://trep.oep.org.bo/resul/imgActa/747471.jpg</td>\n",
       "      <td>0</td>\n",
       "    </tr>\n",
       "  </tbody>\n",
       "</table>\n",
       "<p>3 rows × 74 columns</p>\n",
       "</div>"
      ],
      "text/plain": [
       "                    ApertureValue BitsPerSample BrightnessValue  ColorSpace  \\\n",
       "time                                                                          \n",
       "2019-10-15 06:21:12    (227, 100)           NaN        (0, 100)         1.0   \n",
       "2019-10-15 06:47:35    (227, 100)           NaN        (0, 100)         1.0   \n",
       "2019-10-19 17:47:12    (185, 100)           NaN      (173, 100)         1.0   \n",
       "\n",
       "                    ComponentsConfiguration CompressedBitsPerPixel  Contrast  \\\n",
       "time                                                                           \n",
       "2019-10-15 06:21:12     b'\\x01\\x02\\x03\\x00'                    NaN       NaN   \n",
       "2019-10-15 06:47:35     b'\\x01\\x02\\x03\\x00'                    NaN       NaN   \n",
       "2019-10-19 17:47:12                     NaN                    NaN       NaN   \n",
       "\n",
       "                     CustomRendered             DateTime    DateTimeDigitized  \\\n",
       "time                                                                            \n",
       "2019-10-15 06:21:12             NaN  2019:10:15 06:21:12  2019:10:15 06:21:12   \n",
       "2019-10-15 06:47:35             NaN  2019:10:15 06:47:35  2019:10:15 06:47:35   \n",
       "2019-10-19 17:47:12             NaN  2019:10:19 17:47:12  2019:10:19 17:47:12   \n",
       "\n",
       "                     ... Unnamed: 41 Unnamed: 5  \\\n",
       "time                 ...                          \n",
       "2019-10-15 06:21:12  ...         NaN        NaN   \n",
       "2019-10-15 06:47:35  ...         NaN        NaN   \n",
       "2019-10-19 17:47:12  ...         NaN        NaN   \n",
       "\n",
       "                                                           UserComment  \\\n",
       "time                                                                     \n",
       "2019-10-15 06:21:12  b'ASCII\\x00\\x00\\x00\\xf0\\\\\\x00\\x00=\\xd8\\x00\\x00...   \n",
       "2019-10-15 06:47:35  b'ASCII\\x00\\x00\\x00\\xf0\\\\\\x00\\x00=\\xd8\\x00\\x00...   \n",
       "2019-10-19 17:47:12  b'\\x00\\x00\\x00\\x00\\x00\\x00\\x00\\x00\\x00\\x00\\x00...   \n",
       "\n",
       "                     WhiteBalance  XResolution  YCbCrPositioning  YResolution  \\\n",
       "time                                                                            \n",
       "2019-10-15 06:21:12           0.0      (72, 1)               1.0      (72, 1)   \n",
       "2019-10-15 06:47:35           0.0      (72, 1)               1.0      (72, 1)   \n",
       "2019-10-19 17:47:12           0.0      (72, 1)               1.0      (72, 1)   \n",
       "\n",
       "                      current_download_datetime  \\\n",
       "time                                              \n",
       "2019-10-15 06:21:12  2019-11-02 14:16:34.001939   \n",
       "2019-10-15 06:47:35  2019-11-02 14:16:31.772972   \n",
       "2019-10-19 17:47:12  2019-11-02 17:07:28.866183   \n",
       "\n",
       "                                                            image_src  status  \n",
       "time                                                                           \n",
       "2019-10-15 06:21:12  https://trep.oep.org.bo/resul/imgActa/509991.jpg       0  \n",
       "2019-10-15 06:47:35  https://trep.oep.org.bo/resul/imgActa/509961.jpg       0  \n",
       "2019-10-19 17:47:12  https://trep.oep.org.bo/resul/imgActa/747471.jpg       0  \n",
       "\n",
       "[3 rows x 74 columns]"
      ]
     },
     "execution_count": 152,
     "metadata": {},
     "output_type": "execute_result"
    }
   ],
   "source": [
    "df_out"
   ]
  },
  {
   "cell_type": "code",
   "execution_count": 147,
   "metadata": {},
   "outputs": [
    {
     "data": {
      "text/plain": [
       "nan"
      ]
     },
     "execution_count": 147,
     "metadata": {},
     "output_type": "execute_result"
    }
   ],
   "source": [
    "df_out[\"GPSInfo\"][2]"
   ]
  },
  {
   "cell_type": "code",
   "execution_count": 153,
   "metadata": {},
   "outputs": [
    {
     "data": {
      "text/plain": [
       "'SM-J250M'"
      ]
     },
     "execution_count": 153,
     "metadata": {},
     "output_type": "execute_result"
    }
   ],
   "source": [
    "df_out[\"Model\"][0]"
   ]
  },
  {
   "cell_type": "code",
   "execution_count": 154,
   "metadata": {},
   "outputs": [
    {
     "data": {
      "text/plain": [
       "'SM-J250M'"
      ]
     },
     "execution_count": 154,
     "metadata": {},
     "output_type": "execute_result"
    }
   ],
   "source": [
    "df_out[\"Model\"][1]"
   ]
  },
  {
   "cell_type": "code",
   "execution_count": 156,
   "metadata": {},
   "outputs": [
    {
     "data": {
      "text/plain": [
       "'SM-G903M'"
      ]
     },
     "execution_count": 156,
     "metadata": {},
     "output_type": "execute_result"
    }
   ],
   "source": [
    "df_out[\"Model\"][2]"
   ]
  },
  {
   "cell_type": "code",
   "execution_count": null,
   "metadata": {},
   "outputs": [],
   "source": [
    "# save all df"
   ]
  },
  {
   "cell_type": "code",
   "execution_count": 157,
   "metadata": {},
   "outputs": [],
   "source": [
    "df.to_csv(\"all_metadata.csv\", sep = \",\")"
   ]
  }
 ],
 "metadata": {
  "kernelspec": {
   "display_name": "Python 3",
   "language": "python",
   "name": "python3"
  },
  "language_info": {
   "codemirror_mode": {
    "name": "ipython",
    "version": 3
   },
   "file_extension": ".py",
   "mimetype": "text/x-python",
   "name": "python",
   "nbconvert_exporter": "python",
   "pygments_lexer": "ipython3",
   "version": "3.7.4"
  }
 },
 "nbformat": 4,
 "nbformat_minor": 2
}
